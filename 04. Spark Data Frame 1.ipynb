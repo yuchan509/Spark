{
 "cells": [
  {
   "cell_type": "code",
   "execution_count": 1,
   "metadata": {},
   "outputs": [],
   "source": [
    "import numpy as np\n",
    "import pandas as pd\n",
    "from pyspark import SparkContext\n",
    "from pyspark.sql import SQLContext, Row"
   ]
  },
  {
   "cell_type": "code",
   "execution_count": 2,
   "metadata": {},
   "outputs": [],
   "source": [
    "sc = SparkContext( 'local' )  # spark://ip7070\n",
    "sqlCtx = SQLContext( sc )"
   ]
  },
  {
   "cell_type": "code",
   "execution_count": 3,
   "metadata": {},
   "outputs": [
    {
     "data": {
      "text/plain": [
       "DataFrame[기관명: string, 소계: int, 2013년도 이전: int, 2014년: int, 2015년: int, 2016년: int]"
      ]
     },
     "execution_count": 3,
     "metadata": {},
     "output_type": "execute_result"
    }
   ],
   "source": [
    "df = sqlCtx.read.csv('data1/CCTV_in_Seoul.csv', header=True, inferSchema=True)\n",
    "df"
   ]
  },
  {
   "cell_type": "code",
   "execution_count": 4,
   "metadata": {},
   "outputs": [
    {
     "name": "stdout",
     "output_type": "stream",
     "text": [
      "root\n",
      " |-- 기관명: string (nullable = true)\n",
      " |-- 소계: integer (nullable = true)\n",
      " |-- 2013년도 이전: integer (nullable = true)\n",
      " |-- 2014년: integer (nullable = true)\n",
      " |-- 2015년: integer (nullable = true)\n",
      " |-- 2016년: integer (nullable = true)\n",
      "\n"
     ]
    }
   ],
   "source": [
    "df.printSchema()"
   ]
  },
  {
   "cell_type": "code",
   "execution_count": 5,
   "metadata": {},
   "outputs": [
    {
     "name": "stdout",
     "output_type": "stream",
     "text": [
      "+--------+----+-------------+------+------+------+\n",
      "|  기관명|소계|2013년도 이전|2014년|2015년|2016년|\n",
      "+--------+----+-------------+------+------+------+\n",
      "|  강남구|2780|         1292|   430|   584|   932|\n",
      "|  강동구| 773|          379|    99|   155|   377|\n",
      "|  강북구| 748|          369|   120|   138|   204|\n",
      "|  강서구| 884|          388|   258|   184|    81|\n",
      "|  관악구|1496|          846|   260|   390|   613|\n",
      "|  광진구| 707|          573|    78|    53|   174|\n",
      "|  구로구|1561|         1142|   173|   246|   323|\n",
      "|  금천구|1015|          674|    51|   269|   354|\n",
      "|  노원구|1265|          542|    57|   451|   516|\n",
      "|  도봉구| 485|          238|   159|    42|   386|\n",
      "|동대문구|1294|         1070|    23|   198|   579|\n",
      "|  동작구|1091|          544|   341|   103|   314|\n",
      "|  마포구| 574|          314|   118|   169|   379|\n",
      "|서대문구| 962|          844|    50|    68|   292|\n",
      "|  서초구|1930|         1406|   157|   336|   398|\n",
      "|  성동구|1062|          730|    91|   241|   265|\n",
      "|  성북구|1464|         1009|    78|   360|   204|\n",
      "|  송파구| 618|          529|    21|    68|   463|\n",
      "|  양천구|2034|         1843|   142|    30|   467|\n",
      "|영등포구| 904|          495|   214|   195|   373|\n",
      "+--------+----+-------------+------+------+------+\n",
      "only showing top 20 rows\n",
      "\n"
     ]
    }
   ],
   "source": [
    "df.show()"
   ]
  },
  {
   "cell_type": "markdown",
   "metadata": {},
   "source": [
    "### group by"
   ]
  },
  {
   "cell_type": "code",
   "execution_count": 6,
   "metadata": {},
   "outputs": [
    {
     "data": {
      "text/plain": [
       "DataFrame[학년: string, 과목: string, 결과: string, 중간: int, 기말: int]"
      ]
     },
     "execution_count": 6,
     "metadata": {},
     "output_type": "execute_result"
    }
   ],
   "source": [
    "gradeDF = sqlCtx.read.csv('data/grade.csv', header=True, inferSchema=True)\n",
    "gradeDF"
   ]
  },
  {
   "cell_type": "code",
   "execution_count": 7,
   "metadata": {},
   "outputs": [
    {
     "name": "stdout",
     "output_type": "stream",
     "text": [
      "+-----+----+-----+----+----+\n",
      "| 학년|과목| 결과|중간|기말|\n",
      "+-----+----+-----+----+----+\n",
      "|1학년|국어| 좋음|  80|  90|\n",
      "|1학년|국어| 나쁨|  50|  40|\n",
      "|1학년|국어| 나쁨|  20|  50|\n",
      "|1학년|수학| 좋음|  83|  95|\n",
      "|1학년|수학| 좋음|  93|  86|\n",
      "|2학년|국어| 나쁨|  44|  65|\n",
      "|2학년|국어| 좋음|  95|  98|\n",
      "|2학년|수학| 좋음|  96|  99|\n",
      "|2학년|수학| 나쁨|  57|  69|\n",
      "+-----+----+-----+----+----+\n",
      "\n"
     ]
    }
   ],
   "source": [
    "gradeDF.show()"
   ]
  },
  {
   "cell_type": "code",
   "execution_count": 8,
   "metadata": {},
   "outputs": [],
   "source": [
    "gradeDF.createOrReplaceTempView('grade')"
   ]
  },
  {
   "cell_type": "code",
   "execution_count": 9,
   "metadata": {},
   "outputs": [
    {
     "name": "stdout",
     "output_type": "stream",
     "text": [
      "+-----+---------+\n",
      "| 학년|avg(중간)|\n",
      "+-----+---------+\n",
      "|2학년|     73.0|\n",
      "|1학년|     65.2|\n",
      "+-----+---------+\n",
      "\n"
     ]
    }
   ],
   "source": [
    "sql = '''select `학년`, avg(`중간`) from grade\n",
    "         group by `학년`\n",
    "       '''\n",
    "sqlDF = sqlCtx.sql( sql )\n",
    "sqlDF.show()"
   ]
  }
 ],
 "metadata": {
  "kernelspec": {
   "display_name": "Python 3",
   "language": "python",
   "name": "python3"
  },
  "language_info": {
   "codemirror_mode": {
    "name": "ipython",
    "version": 3
   },
   "file_extension": ".py",
   "mimetype": "text/x-python",
   "name": "python",
   "nbconvert_exporter": "python",
   "pygments_lexer": "ipython3",
   "version": "3.7.6"
  }
 },
 "nbformat": 4,
 "nbformat_minor": 4
}
