{
 "cells": [
  {
   "cell_type": "code",
   "execution_count": 1,
   "metadata": {},
   "outputs": [],
   "source": [
    "from pyspark import SparkContext\n",
    "from pyspark.sql import SQLContext, Row\n",
    "import pandas as pd\n",
    "import numpy as np\n",
    "\n",
    "import matplotlib.pyplot as plt\n",
    "import pyspark.sql.functions as F\n",
    "from pyspark.sql.functions import when, udf, col, regexp_replace, regexp_extract\n",
    "from pyspark.sql.types import DoubleType,IntegerType, StringType "
   ]
  },
  {
   "cell_type": "code",
   "execution_count": 2,
   "metadata": {},
   "outputs": [],
   "source": [
    "sc = SparkContext( 'local' )  \n",
    "sqlCtx = SQLContext( sc )"
   ]
  },
  {
   "cell_type": "code",
   "execution_count": 4,
   "metadata": {},
   "outputs": [],
   "source": [
    "emp = [ (\"Lisa\", \"Sales\", 10000, 35),\n",
    "        (\"Evan\", \"Sales\", 32000, 38),\n",
    "        (\"Fred\", \"Engineering\", 21000, 28),\n",
    "        (\"Alex\", \"Sales\", 30000, 33),\n",
    "        (\"Tom\", \"Engineering\", 23000, 33),\n",
    "        (\"Jane\", \"Marketing\", 29000, 28),\n",
    "        (\"Jeff\", \"Marketing\", 35000, 38),\n",
    "        (\"Paul\", \"Engineering\", 29000, 23),\n",
    "        (\"Chloe\", \"Engineering\", 23000, 25) ]"
   ]
  },
  {
   "cell_type": "code",
   "execution_count": 5,
   "metadata": {},
   "outputs": [
    {
     "name": "stdout",
     "output_type": "stream",
     "text": [
      "+-----+-----------+------+---+\n",
      "| name|       dept|salary|age|\n",
      "+-----+-----------+------+---+\n",
      "| Lisa|      Sales| 10000| 35|\n",
      "| Evan|      Sales| 32000| 38|\n",
      "| Fred|Engineering| 21000| 28|\n",
      "| Alex|      Sales| 30000| 33|\n",
      "|  Tom|Engineering| 23000| 33|\n",
      "| Jane|  Marketing| 29000| 28|\n",
      "| Jeff|  Marketing| 35000| 38|\n",
      "| Paul|Engineering| 29000| 23|\n",
      "|Chloe|Engineering| 23000| 25|\n",
      "+-----+-----------+------+---+\n",
      "\n"
     ]
    }
   ],
   "source": [
    "empDF = sqlCtx.createDataFrame( emp,('name' , 'dept' , 'salary' , 'age' ))\n",
    "empDF.show()"
   ]
  },
  {
   "cell_type": "code",
   "execution_count": 6,
   "metadata": {},
   "outputs": [],
   "source": [
    "empDF.createOrReplaceTempView('employees') "
   ]
  },
  {
   "cell_type": "code",
   "execution_count": null,
   "metadata": {},
   "outputs": [],
   "source": [
    "## 부서별로 급여가 많은 순위를 구하시오.(partition)"
   ]
  },
  {
   "cell_type": "code",
   "execution_count": 7,
   "metadata": {},
   "outputs": [
    {
     "name": "stdout",
     "output_type": "stream",
     "text": [
      "+-----+-----------+----+\n",
      "| name|       dept|rank|\n",
      "+-----+-----------+----+\n",
      "| Lisa|      Sales|   1|\n",
      "| Alex|      Sales|   2|\n",
      "| Evan|      Sales|   3|\n",
      "| Fred|Engineering|   1|\n",
      "|  Tom|Engineering|   2|\n",
      "|Chloe|Engineering|   2|\n",
      "| Paul|Engineering|   4|\n",
      "| Jane|  Marketing|   1|\n",
      "| Jeff|  Marketing|   2|\n",
      "+-----+-----------+----+\n",
      "\n"
     ]
    }
   ],
   "source": [
    "sql='''SELECT name, dept,\n",
    "        RANK() OVER (PARTITION BY dept ORDER BY salary) AS rank FROM employees\n",
    "    '''\n",
    "sqlCtx.sql( sql ).show() "
   ]
  },
  {
   "cell_type": "code",
   "execution_count": 8,
   "metadata": {},
   "outputs": [
    {
     "name": "stdout",
     "output_type": "stream",
     "text": [
      "+-----------+\n",
      "|max(salary)|\n",
      "+-----------+\n",
      "|      35000|\n",
      "+-----------+\n",
      "\n"
     ]
    }
   ],
   "source": [
    "sql='''SELECT max(salary) FROM employees\n",
    "    '''\n",
    "sqlCtx.sql( sql ).show() "
   ]
  },
  {
   "cell_type": "code",
   "execution_count": 9,
   "metadata": {},
   "outputs": [
    {
     "name": "stdout",
     "output_type": "stream",
     "text": [
      "+-----------+\n",
      "|max(salary)|\n",
      "+-----------+\n",
      "|      35000|\n",
      "+-----------+\n",
      "\n"
     ]
    }
   ],
   "source": [
    "empDF.selectExpr('max(salary)').show()"
   ]
  },
  {
   "cell_type": "code",
   "execution_count": 12,
   "metadata": {},
   "outputs": [
    {
     "name": "stdout",
     "output_type": "stream",
     "text": [
      "+-----+-----------+----+\n",
      "| name|       dept|rank|\n",
      "+-----+-----------+----+\n",
      "| Lisa|      Sales|   1|\n",
      "| Alex|      Sales|   2|\n",
      "| Evan|      Sales|   3|\n",
      "| Fred|Engineering|   1|\n",
      "|  Tom|Engineering|   2|\n",
      "|Chloe|Engineering|   2|\n",
      "| Paul|Engineering|   4|\n",
      "| Jane|  Marketing|   1|\n",
      "| Jeff|  Marketing|   2|\n",
      "+-----+-----------+----+\n",
      "\n"
     ]
    }
   ],
   "source": [
    "empDF.selectExpr('name','dept', 'RANK() OVER (PARTITION BY dept ORDER BY salary) AS rank' ).show()"
   ]
  },
  {
   "cell_type": "code",
   "execution_count": 15,
   "metadata": {},
   "outputs": [
    {
     "name": "stdout",
     "output_type": "stream",
     "text": [
      "+-----+-----------+-----+\n",
      "| name|       dept|  min|\n",
      "+-----+-----------+-----+\n",
      "| Lisa|      Sales|10000|\n",
      "| Alex|      Sales|10000|\n",
      "| Evan|      Sales|10000|\n",
      "| Fred|Engineering|21000|\n",
      "|  Tom|Engineering|21000|\n",
      "|Chloe|Engineering|21000|\n",
      "| Paul|Engineering|21000|\n",
      "| Jane|  Marketing|29000|\n",
      "| Jeff|  Marketing|29000|\n",
      "+-----+-----------+-----+\n",
      "\n"
     ]
    }
   ],
   "source": [
    "sql='''SELECT name, dept,\n",
    "         min(salary) OVER (PARTITION BY dept ORDER BY salary) AS min FROM employees\n",
    "    '''\n",
    "sqlCtx.sql( sql ).show() "
   ]
  },
  {
   "cell_type": "code",
   "execution_count": null,
   "metadata": {},
   "outputs": [],
   "source": []
  }
 ],
 "metadata": {
  "kernelspec": {
   "display_name": "Python 3",
   "language": "python",
   "name": "python3"
  },
  "language_info": {
   "codemirror_mode": {
    "name": "ipython",
    "version": 3
   },
   "file_extension": ".py",
   "mimetype": "text/x-python",
   "name": "python",
   "nbconvert_exporter": "python",
   "pygments_lexer": "ipython3",
   "version": "3.7.6"
  }
 },
 "nbformat": 4,
 "nbformat_minor": 4
}
