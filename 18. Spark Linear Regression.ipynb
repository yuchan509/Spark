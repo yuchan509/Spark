{
 "cells": [
  {
   "cell_type": "code",
   "execution_count": 1,
   "metadata": {},
   "outputs": [],
   "source": [
    "from pyspark.sql import  SQLContext \n",
    "from pyspark import SparkContext\n",
    "from pyspark.ml.regression import LinearRegression\n",
    "from pyspark.ml.feature import VectorAssembler\n",
    "import matplotlib.pyplot as plt\n",
    "import matplotlib\n",
    "import pandas as pd\n",
    "matplotlib.rcParams['font.family'] = 'Malgun Gothic'\n",
    "matplotlib.rcParams['axes.unicode_minus'] = False"
   ]
  },
  {
   "cell_type": "code",
   "execution_count": 2,
   "metadata": {},
   "outputs": [],
   "source": [
    "sc = SparkContext('local')\n",
    "sqlctx = SQLContext(sc)"
   ]
  },
  {
   "cell_type": "code",
   "execution_count": 3,
   "metadata": {},
   "outputs": [
    {
     "name": "stdout",
     "output_type": "stream",
     "text": [
      "+---+-----+----+\n",
      "|_c0|speed|dist|\n",
      "+---+-----+----+\n",
      "|  1|    4|   2|\n",
      "|  2|    4|  10|\n",
      "|  3|    7|   4|\n",
      "|  4|    7|  22|\n",
      "|  5|    8|  16|\n",
      "|  6|    9|  10|\n",
      "|  7|   10|  18|\n",
      "|  8|   10|  26|\n",
      "|  9|   10|  34|\n",
      "| 10|   11|  17|\n",
      "| 11|   11|  28|\n",
      "| 12|   12|  14|\n",
      "| 13|   12|  20|\n",
      "| 14|   12|  24|\n",
      "| 15|   12|  28|\n",
      "| 16|   13|  26|\n",
      "| 17|   13|  34|\n",
      "| 18|   13|  34|\n",
      "| 19|   13|  46|\n",
      "| 20|   14|  26|\n",
      "+---+-----+----+\n",
      "only showing top 20 rows\n",
      "\n"
     ]
    }
   ],
   "source": [
    "cardf = sqlctx.read.csv( 'data/cars.csv', header=True, inferSchema=True)\n",
    "cardf.show()"
   ]
  },
  {
   "cell_type": "code",
   "execution_count": 4,
   "metadata": {},
   "outputs": [
    {
     "data": {
      "image/png": "[encoded data removed]",
      "text/plain": [
       "<Figure size 432x288 with 1 Axes>"
      ]
     },
     "metadata": {
      "needs_background": "light"
     },
     "output_type": "display_data"
    }
   ],
   "source": [
    "pdcar = cardf.toPandas()\n",
    "plt.scatter(pdcar['speed'], pdcar['dist'])\n",
    "plt.show()"
   ]
  },
  {
   "cell_type": "code",
   "execution_count": 5,
   "metadata": {},
   "outputs": [
    {
     "data": {
      "text/plain": [
       "0.8068949006892103"
      ]
     },
     "execution_count": 5,
     "metadata": {},
     "output_type": "execute_result"
    }
   ],
   "source": [
    "cardf.corr('speed','dist')"
   ]
  },
  {
   "cell_type": "code",
   "execution_count": 6,
   "metadata": {},
   "outputs": [],
   "source": [
    "# x(speed) : 특성 데이터 (설명변수를 의미)의 개수에 따라 단순, 다중 선형회귀로 분류.\n",
    "# y(dist: Label) : 정답"
   ]
  },
  {
   "cell_type": "code",
   "execution_count": 7,
   "metadata": {},
   "outputs": [
    {
     "name": "stdout",
     "output_type": "stream",
     "text": [
      "+---+-----+----+--------+\n",
      "|_c0|speed|dist|features|\n",
      "+---+-----+----+--------+\n",
      "|  1|    4|   2|   [4.0]|\n",
      "|  2|    4|  10|   [4.0]|\n",
      "|  3|    7|   4|   [7.0]|\n",
      "|  4|    7|  22|   [7.0]|\n",
      "|  5|    8|  16|   [8.0]|\n",
      "|  6|    9|  10|   [9.0]|\n",
      "|  7|   10|  18|  [10.0]|\n",
      "|  8|   10|  26|  [10.0]|\n",
      "|  9|   10|  34|  [10.0]|\n",
      "| 10|   11|  17|  [11.0]|\n",
      "| 11|   11|  28|  [11.0]|\n",
      "| 12|   12|  14|  [12.0]|\n",
      "| 13|   12|  20|  [12.0]|\n",
      "| 14|   12|  24|  [12.0]|\n",
      "| 15|   12|  28|  [12.0]|\n",
      "| 16|   13|  26|  [13.0]|\n",
      "| 17|   13|  34|  [13.0]|\n",
      "| 18|   13|  34|  [13.0]|\n",
      "| 19|   13|  46|  [13.0]|\n",
      "| 20|   14|  26|  [14.0]|\n",
      "| 21|   14|  36|  [14.0]|\n",
      "| 22|   14|  60|  [14.0]|\n",
      "| 23|   14|  80|  [14.0]|\n",
      "| 24|   15|  20|  [15.0]|\n",
      "| 25|   15|  26|  [15.0]|\n",
      "| 26|   15|  54|  [15.0]|\n",
      "| 27|   16|  32|  [16.0]|\n",
      "| 28|   16|  40|  [16.0]|\n",
      "| 29|   17|  32|  [17.0]|\n",
      "| 30|   17|  40|  [17.0]|\n",
      "| 31|   17|  50|  [17.0]|\n",
      "| 32|   18|  42|  [18.0]|\n",
      "| 33|   18|  56|  [18.0]|\n",
      "| 34|   18|  76|  [18.0]|\n",
      "| 35|   18|  84|  [18.0]|\n",
      "| 36|   19|  36|  [19.0]|\n",
      "| 37|   19|  46|  [19.0]|\n",
      "| 38|   19|  68|  [19.0]|\n",
      "| 39|   20|  32|  [20.0]|\n",
      "| 40|   20|  48|  [20.0]|\n",
      "| 41|   20|  52|  [20.0]|\n",
      "| 42|   20|  56|  [20.0]|\n",
      "| 43|   20|  64|  [20.0]|\n",
      "| 44|   22|  66|  [22.0]|\n",
      "| 45|   23|  54|  [23.0]|\n",
      "| 46|   24|  70|  [24.0]|\n",
      "| 47|   24|  92|  [24.0]|\n",
      "| 48|   24|  93|  [24.0]|\n",
      "| 49|   24| 120|  [24.0]|\n",
      "| 50|   25|  85|  [25.0]|\n",
      "+---+-----+----+--------+\n",
      "\n"
     ]
    }
   ],
   "source": [
    "f = VectorAssembler(inputCols=['speed'], outputCol='features')\n",
    "v_df = f.transform(cardf)\n",
    "v_df.show(v_df.count())"
   ]
  },
  {
   "cell_type": "code",
   "execution_count": 8,
   "metadata": {},
   "outputs": [
    {
     "name": "stdout",
     "output_type": "stream",
     "text": [
      "+--------+----+\n",
      "|features|dist|\n",
      "+--------+----+\n",
      "|   [4.0]|   2|\n",
      "|   [4.0]|  10|\n",
      "|   [7.0]|   4|\n",
      "|   [7.0]|  22|\n",
      "|   [8.0]|  16|\n",
      "|   [9.0]|  10|\n",
      "|  [10.0]|  18|\n",
      "|  [10.0]|  26|\n",
      "|  [10.0]|  34|\n",
      "|  [11.0]|  17|\n",
      "|  [11.0]|  28|\n",
      "|  [12.0]|  14|\n",
      "|  [12.0]|  20|\n",
      "|  [12.0]|  24|\n",
      "|  [12.0]|  28|\n",
      "|  [13.0]|  26|\n",
      "|  [13.0]|  34|\n",
      "|  [13.0]|  34|\n",
      "|  [13.0]|  46|\n",
      "|  [14.0]|  26|\n",
      "+--------+----+\n",
      "only showing top 20 rows\n",
      "\n"
     ]
    }
   ],
   "source": [
    "v_df = v_df.select('features', 'dist')\n",
    "v_df.show()"
   ]
  },
  {
   "cell_type": "code",
   "execution_count": 9,
   "metadata": {},
   "outputs": [],
   "source": [
    "# train data\n",
    "# test data\n",
    "train_df, test_df = v_df.randomSplit([0.7, 0.3])"
   ]
  },
  {
   "cell_type": "code",
   "execution_count": 10,
   "metadata": {},
   "outputs": [
    {
     "name": "stdout",
     "output_type": "stream",
     "text": [
      "+--------+----+\n",
      "|features|dist|\n",
      "+--------+----+\n",
      "|   [4.0]|   2|\n",
      "|   [7.0]|  22|\n",
      "|  [10.0]|  18|\n",
      "|  [10.0]|  26|\n",
      "|  [10.0]|  34|\n",
      "|  [11.0]|  28|\n",
      "|  [12.0]|  28|\n",
      "|  [13.0]|  26|\n",
      "|  [13.0]|  34|\n",
      "|  [13.0]|  46|\n",
      "|  [14.0]|  26|\n",
      "|  [14.0]|  60|\n",
      "|  [15.0]|  20|\n",
      "|  [15.0]|  54|\n",
      "|  [16.0]|  32|\n",
      "|  [16.0]|  40|\n",
      "|  [17.0]|  32|\n",
      "|  [17.0]|  40|\n",
      "|  [17.0]|  50|\n",
      "|  [18.0]|  56|\n",
      "+--------+----+\n",
      "only showing top 20 rows\n",
      "\n",
      "34\n"
     ]
    }
   ],
   "source": [
    "train_df.show()\n",
    "print(train_df.count())"
   ]
  },
  {
   "cell_type": "code",
   "execution_count": 11,
   "metadata": {},
   "outputs": [
    {
     "name": "stdout",
     "output_type": "stream",
     "text": [
      "+--------+----+\n",
      "|features|dist|\n",
      "+--------+----+\n",
      "|   [4.0]|  10|\n",
      "|   [7.0]|   4|\n",
      "|   [8.0]|  16|\n",
      "|   [9.0]|  10|\n",
      "|  [11.0]|  17|\n",
      "|  [12.0]|  14|\n",
      "|  [12.0]|  20|\n",
      "|  [12.0]|  24|\n",
      "|  [13.0]|  34|\n",
      "|  [14.0]|  36|\n",
      "|  [14.0]|  80|\n",
      "|  [15.0]|  26|\n",
      "|  [18.0]|  42|\n",
      "|  [18.0]|  84|\n",
      "|  [20.0]|  56|\n",
      "|  [24.0]|  93|\n",
      "+--------+----+\n",
      "\n",
      "16\n"
     ]
    }
   ],
   "source": [
    "test_df.show()\n",
    "print(test_df.count())"
   ]
  },
  {
   "cell_type": "code",
   "execution_count": 12,
   "metadata": {},
   "outputs": [],
   "source": [
    "lr = LinearRegression( featuresCol='features',labelCol='dist', maxIter=100, regParam=0.01)\n",
    "lr_model = lr.fit(train_df)    # 학습 시작"
   ]
  },
  {
   "cell_type": "code",
   "execution_count": 13,
   "metadata": {},
   "outputs": [
    {
     "name": "stdout",
     "output_type": "stream",
     "text": [
      "기울기 [3.7127838427805973]\n",
      "절편 -14.483710826892757\n"
     ]
    }
   ],
   "source": [
    "print(\"기울기\", lr_model.coefficients)\n",
    "print('절편', lr_model.intercept)"
   ]
  },
  {
   "cell_type": "code",
   "execution_count": 14,
   "metadata": {},
   "outputs": [
    {
     "data": {
      "text/plain": [
       "41.2080468148162"
      ]
     },
     "execution_count": 14,
     "metadata": {},
     "output_type": "execute_result"
    }
   ],
   "source": [
    "w = lr_model.coefficients[0]\n",
    "b = lr_model.intercept\n",
    "p = b + w*15\n",
    "p"
   ]
  },
  {
   "cell_type": "code",
   "execution_count": 15,
   "metadata": {},
   "outputs": [
    {
     "data": {
      "image/png": "[encoded data removed]",
      "text/plain": [
       "<Figure size 432x288 with 1 Axes>"
      ]
     },
     "metadata": {
      "needs_background": "light"
     },
     "output_type": "display_data"
    }
   ],
   "source": [
    "pdcar = cardf.toPandas()\n",
    "pdcar['lr'] = w*pdcar['speed']+ b\n",
    "plt.scatter(pdcar['speed'], pdcar['dist'])\n",
    "plt.plot(pdcar['speed'], pdcar['lr'], 'r--')\n",
    "plt.show()"
   ]
  },
  {
   "cell_type": "code",
   "execution_count": null,
   "metadata": {},
   "outputs": [],
   "source": []
  }
 ],
 "metadata": {
  "kernelspec": {
   "display_name": "Python 3",
   "language": "python",
   "name": "python3"
  },
  "language_info": {
   "codemirror_mode": {
    "name": "ipython",
    "version": 3
   },
   "file_extension": ".py",
   "mimetype": "text/x-python",
   "name": "python",
   "nbconvert_exporter": "python",
   "pygments_lexer": "ipython3",
   "version": "3.7.6"
  }
 },
 "nbformat": 4,
 "nbformat_minor": 4
}
