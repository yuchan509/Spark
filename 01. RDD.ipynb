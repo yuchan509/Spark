{
 "cells": [
  {
   "cell_type": "markdown",
   "metadata": {},
   "source": [
    "#### RDD(Resilient Distributed Datase) : 분산되어 있는 변경 불가능한 객체 모음.(분산되어 존재하는 데이터 요소들의 모임.)\n",
    "- <RDD 객체의 멤버함수>\n",
    "    - 1. Action 함수\n",
    "        - take()\n",
    "        - collect()\n",
    "        - stats()\n",
    "        - mean()\n",
    "        - min()\n",
    "        - max()\n",
    "        - stdev()\n",
    "        - sum()\n",
    "        - reduce()\n",
    "        - sample()\n",
    "        - takeSample()\n",
    "        - first()\n",
    "        - countByKey()\n",
    "        - sortBy()\n",
    "        - sortByKey()\n",
    "    - 2. Transformation 함수\n",
    "        - filter()\n",
    "        - map()\n",
    "        - flatMap()\n",
    "        - distinct()\n",
    "        - reduceByKey()"
   ]
  },
  {
   "cell_type": "code",
   "execution_count": 1,
   "metadata": {},
   "outputs": [],
   "source": [
    "from pyspark import SparkContext"
   ]
  },
  {
   "cell_type": "code",
   "execution_count": 2,
   "metadata": {},
   "outputs": [],
   "source": [
    "# 한 번만 실행. 현재 클러스터 구성을 아직 안해서 Local로 주고 이용.\n",
    "sc = SparkContext('local')\n",
    "\n",
    "# 사용할 데이터 리스트.\n",
    "my = [10,20,30,40,50]\n",
    "\n",
    "# 파이썬 리스트를 넘기고 스파크 RDD를 생성. 또는 데이터를 k개의 파티션으로 나눌 수도 있음.\n",
    "nRdd = sc.parallelize(my)"
   ]
  },
  {
   "cell_type": "code",
   "execution_count": 3,
   "metadata": {},
   "outputs": [
    {
     "data": {
      "text/plain": [
       "ParallelCollectionRDD[0] at parallelize at PythonRDD.scala:195"
      ]
     },
     "execution_count": 3,
     "metadata": {},
     "output_type": "execute_result"
    }
   ],
   "source": [
    "# 분산 리스트 for 방대한 데이터.\n",
    "nRdd"
   ]
  },
  {
   "cell_type": "code",
   "execution_count": 4,
   "metadata": {},
   "outputs": [
    {
     "data": {
      "text/plain": [
       "[10, 20, 30]"
      ]
     },
     "execution_count": 4,
     "metadata": {},
     "output_type": "execute_result"
    }
   ],
   "source": [
    "# Action 함수. => take(가져올 데이터 수) : RDD에서 데이터를 가져옴.\n",
    "nRdd.take(3) "
   ]
  },
  {
   "cell_type": "code",
   "execution_count": 5,
   "metadata": {},
   "outputs": [],
   "source": [
    "# Action 함수. => foreach() : collection을 리스트로 출력함.\n",
    "nRdd.foreach( lambda x : print(x) )"
   ]
  },
  {
   "cell_type": "code",
   "execution_count": 6,
   "metadata": {},
   "outputs": [
    {
     "data": {
      "text/plain": [
       "[12, 22, 32, 42, 52]"
      ]
     },
     "execution_count": 6,
     "metadata": {},
     "output_type": "execute_result"
    }
   ],
   "source": [
    "# Transformation 함수. => map() : 데이터를 가공함. 반환 타입이 같지 않아도 되서 유용함.\n",
    "nRdd.map( lambda x: x + 2 ).collect()"
   ]
  },
  {
   "cell_type": "code",
   "execution_count": 7,
   "metadata": {},
   "outputs": [
    {
     "data": {
      "text/plain": [
       "['스파크', '테스트', '입니다', '확인']"
      ]
     },
     "execution_count": 7,
     "metadata": {},
     "output_type": "execute_result"
    }
   ],
   "source": [
    "# sc.textFile() : 텍스트 파일 읽기.\n",
    "rdd1 = sc.textFile('data/aa.txt') \n",
    "\n",
    "# Action 함수. => collect() : RDD의 모든 데이터 요소를 하나의 리스트로 반환. \n",
    "rdd1.collect()"
   ]
  },
  {
   "cell_type": "code",
   "execution_count": 8,
   "metadata": {},
   "outputs": [
    {
     "data": {
      "text/plain": [
       "['안녕 스파크', '반가워 파이썬', '내일은 새해', '내일 뵐께요']"
      ]
     },
     "execution_count": 8,
     "metadata": {},
     "output_type": "execute_result"
    }
   ],
   "source": [
    "rdd2 = sc.textFile('data/bb.txt')\n",
    "rdd2.collect()"
   ]
  },
  {
   "cell_type": "code",
   "execution_count": 9,
   "metadata": {},
   "outputs": [
    {
     "data": {
      "text/plain": [
       "[['안녕', '스파크'], ['반가워', '파이썬'], ['내일은', '새해'], ['내일', '뵐께요']]"
      ]
     },
     "execution_count": 9,
     "metadata": {},
     "output_type": "execute_result"
    }
   ],
   "source": [
    "# Transformation 함수. => map() : 데이터를 가공함. 반환 타입이 같지 않아도 되서 유용함.\n",
    "# x : 개별 데이터를   split() : 공백 기준으로 자름.\n",
    "rdd2.map( lambda x : x.split() ).collect()  "
   ]
  },
  {
   "cell_type": "code",
   "execution_count": 10,
   "metadata": {},
   "outputs": [
    {
     "data": {
      "text/plain": [
       "['안녕', '스파크', '반가워', '파이썬', '내일은', '새해', '내일', '뵐께요']"
      ]
     },
     "execution_count": 10,
     "metadata": {},
     "output_type": "execute_result"
    }
   ],
   "source": [
    "# Transformation 함수. => flatMap() : 각 입력 데이터에 대해 여러 개의 아웃풋 데이터를 생성.\n",
    "rdd2.flatMap( lambda x: x.split() ).collect()"
   ]
  },
  {
   "cell_type": "code",
   "execution_count": 11,
   "metadata": {},
   "outputs": [
    {
     "data": {
      "text/plain": [
       "8"
      ]
     },
     "execution_count": 11,
     "metadata": {},
     "output_type": "execute_result"
    }
   ],
   "source": [
    "# Action 함수. => count() : RDD의 데이터 개수. \n",
    "rdd2.flatMap( lambda x: x.split() ).count() "
   ]
  },
  {
   "cell_type": "code",
   "execution_count": 12,
   "metadata": {},
   "outputs": [
    {
     "data": {
      "text/plain": [
       "['10,20', '30,40', '50,60', '20,40']"
      ]
     },
     "execution_count": 12,
     "metadata": {},
     "output_type": "execute_result"
    }
   ],
   "source": [
    "rdd3 = sc.textFile('data1/bb.txt')\n",
    "rdd3.collect()"
   ]
  },
  {
   "cell_type": "code",
   "execution_count": 13,
   "metadata": {},
   "outputs": [
    {
     "data": {
      "text/plain": [
       "['10', '20', '30', '40', '50', '60', '20', '40']"
      ]
     },
     "execution_count": 13,
     "metadata": {},
     "output_type": "execute_result"
    }
   ],
   "source": [
    "rdd3.flatMap(lambda x : x.split(',')).collect()"
   ]
  },
  {
   "cell_type": "code",
   "execution_count": 14,
   "metadata": {},
   "outputs": [
    {
     "data": {
      "text/plain": [
       "[10, 20, 30, 40, 50, 60, 20, 40]"
      ]
     },
     "execution_count": 14,
     "metadata": {},
     "output_type": "execute_result"
    }
   ],
   "source": [
    "rdd4 = rdd3.flatMap(lambda x : x.split(',')).map(lambda x : int(x))\n",
    "rdd4.collect()"
   ]
  },
  {
   "cell_type": "code",
   "execution_count": 15,
   "metadata": {},
   "outputs": [
    {
     "data": {
      "text/plain": [
       "[10, 20, 30, 40, 50, 60]"
      ]
     },
     "execution_count": 15,
     "metadata": {},
     "output_type": "execute_result"
    }
   ],
   "source": [
    "# Transformation 함수. => 중복값 제외.\n",
    "rdd4.distinct().collect()"
   ]
  },
  {
   "cell_type": "code",
   "execution_count": 16,
   "metadata": {},
   "outputs": [
    {
     "data": {
      "text/plain": [
       "10"
      ]
     },
     "execution_count": 16,
     "metadata": {},
     "output_type": "execute_result"
    }
   ],
   "source": [
    "# Action 함수. => first() : 첫번째 요소를 반환함.\n",
    "rdd4.first() "
   ]
  },
  {
   "cell_type": "code",
   "execution_count": 17,
   "metadata": {},
   "outputs": [
    {
     "data": {
      "text/plain": [
       "[10, 30, 40, 60, 20]"
      ]
     },
     "execution_count": 17,
     "metadata": {},
     "output_type": "execute_result"
    }
   ],
   "source": [
    "# Transformation 함수. => sample() : 복원 추출. 0.3의 의미는 30% 정도를 복원 추출해준다는 것을 의미.\n",
    "samRdd1 = rdd4.sample(True, 0.3)    \n",
    "samRdd1.collect()"
   ]
  },
  {
   "cell_type": "code",
   "execution_count": 18,
   "metadata": {},
   "outputs": [
    {
     "data": {
      "text/plain": [
       "[]"
      ]
     },
     "execution_count": 18,
     "metadata": {},
     "output_type": "execute_result"
    }
   ],
   "source": [
    "# Transformation 함수. => sample() : 비복원 추출. 0.3의 의미는 30% 정도를 비복원 추출해준다는 것을 의미.\n",
    "samRdd2 = rdd4.sample(False, 0.3) \n",
    "samRdd2.collect()"
   ]
  },
  {
   "cell_type": "code",
   "execution_count": 19,
   "metadata": {},
   "outputs": [
    {
     "data": {
      "text/plain": [
       "[40, 20]"
      ]
     },
     "execution_count": 19,
     "metadata": {},
     "output_type": "execute_result"
    }
   ],
   "source": [
    "# Action 함수. => takeSample() : True : 복원.\n",
    "rdd4.takeSample(True, 2)  "
   ]
  },
  {
   "cell_type": "code",
   "execution_count": 20,
   "metadata": {},
   "outputs": [
    {
     "data": {
      "text/plain": [
       "[40, 20, 40, 30]"
      ]
     },
     "execution_count": 20,
     "metadata": {},
     "output_type": "execute_result"
    }
   ],
   "source": [
    "# Action 함수. => takeSample() : False : 비복원.\n",
    "rdd4.takeSample(False, 4)  "
   ]
  },
  {
   "cell_type": "code",
   "execution_count": 21,
   "metadata": {},
   "outputs": [
    {
     "data": {
      "text/plain": [
       "33.75"
      ]
     },
     "execution_count": 21,
     "metadata": {},
     "output_type": "execute_result"
    }
   ],
   "source": [
    "# Action 함수. => mean() : 평균을 구해줌.\n",
    "rdd4.mean()     "
   ]
  },
  {
   "cell_type": "code",
   "execution_count": 22,
   "metadata": {},
   "outputs": [
    {
     "data": {
      "text/plain": [
       "270"
      ]
     },
     "execution_count": 22,
     "metadata": {},
     "output_type": "execute_result"
    }
   ],
   "source": [
    "# Action 함수. => sum() : 합계를 구해줌.\n",
    "rdd4.sum() "
   ]
  },
  {
   "cell_type": "code",
   "execution_count": 23,
   "metadata": {},
   "outputs": [
    {
     "data": {
      "text/plain": [
       "10"
      ]
     },
     "execution_count": 23,
     "metadata": {},
     "output_type": "execute_result"
    }
   ],
   "source": [
    "# Action 함수. => min() : 최소값을 구해줌.\n",
    "rdd4.min()"
   ]
  },
  {
   "cell_type": "code",
   "execution_count": 24,
   "metadata": {},
   "outputs": [
    {
     "data": {
      "text/plain": [
       "60"
      ]
     },
     "execution_count": 24,
     "metadata": {},
     "output_type": "execute_result"
    }
   ],
   "source": [
    "# Action 함수. => max() : 최대값을 구해줌.\n",
    "rdd4.max()"
   ]
  },
  {
   "cell_type": "code",
   "execution_count": 25,
   "metadata": {},
   "outputs": [
    {
     "data": {
      "text/plain": [
       "15.761900266148114"
      ]
     },
     "execution_count": 25,
     "metadata": {},
     "output_type": "execute_result"
    }
   ],
   "source": [
    "# Action 함수. => stdev() : 표준편차를 구해줌.\n",
    "rdd4.stdev()"
   ]
  },
  {
   "cell_type": "code",
   "execution_count": 26,
   "metadata": {},
   "outputs": [
    {
     "data": {
      "text/plain": [
       "(count: 8, mean: 33.75, stdev: 15.761900266148114, max: 60.0, min: 10.0)"
      ]
     },
     "execution_count": 26,
     "metadata": {},
     "output_type": "execute_result"
    }
   ],
   "source": [
    "# Action 함수. => stats() : 기술통계량을 구해줌.\n",
    "rdd4.stats()"
   ]
  },
  {
   "cell_type": "code",
   "execution_count": 27,
   "metadata": {},
   "outputs": [
    {
     "data": {
      "text/plain": [
       "[6, 2]"
      ]
     },
     "execution_count": 27,
     "metadata": {},
     "output_type": "execute_result"
    }
   ],
   "source": [
    "# 1 <= data < 50, 50 <= data < 100 인 개수를 반환.\n",
    "a, b = rdd4.histogram([1,50,100])   \n",
    "\n",
    "# [1, 50) : 6개, [50, 100) : 2개\n",
    "b"
   ]
  },
  {
   "cell_type": "code",
   "execution_count": 28,
   "metadata": {},
   "outputs": [
    {
     "name": "stdout",
     "output_type": "stream",
     "text": [
      "x= 1\n",
      "y= 2\n"
     ]
    },
    {
     "data": {
      "text/plain": [
       "3"
      ]
     },
     "execution_count": 28,
     "metadata": {},
     "output_type": "execute_result"
    }
   ],
   "source": [
    "# 함수로도 이용가능.\n",
    "def f(x,y) :\n",
    "    print('x=', x)\n",
    "    print('y=', y)\n",
    "    return x + y\n",
    "f(1,2)"
   ]
  },
  {
   "cell_type": "code",
   "execution_count": 29,
   "metadata": {},
   "outputs": [
    {
     "data": {
      "text/plain": [
       "270"
      ]
     },
     "execution_count": 29,
     "metadata": {},
     "output_type": "execute_result"
    }
   ],
   "source": [
    "# Action 함수. => reduce() : 누적합의 개념.\n",
    "# rdd4.reduce( lambda x, y : x + y )\n",
    "rdd4.reduce( f )"
   ]
  },
  {
   "cell_type": "code",
   "execution_count": 30,
   "metadata": {},
   "outputs": [
    {
     "data": {
      "text/plain": [
       "[(1, 2), (3, 4), (5, 6), (1, 7), (3, 4)]"
      ]
     },
     "execution_count": 30,
     "metadata": {},
     "output_type": "execute_result"
    }
   ],
   "source": [
    "dt  = [(1,2),(3,4),(5,6),(1,7),(3,4)]\n",
    "rdd6 = sc.parallelize(dt)\n",
    "rdd6.collect()"
   ]
  },
  {
   "cell_type": "code",
   "execution_count": 31,
   "metadata": {},
   "outputs": [
    {
     "data": {
      "text/plain": [
       "[(1, 9), (3, 8), (5, 6)]"
      ]
     },
     "execution_count": 31,
     "metadata": {},
     "output_type": "execute_result"
    }
   ],
   "source": [
    "# Transform 함수. => reduceByKey() : ( key, value ) 동일 key에 대하여 value의 합.\n",
    "rdd6.reduceByKey(lambda x,y : x + y).collect()   "
   ]
  },
  {
   "cell_type": "code",
   "execution_count": 32,
   "metadata": {},
   "outputs": [
    {
     "data": {
      "text/plain": [
       "[1, 2, 3, 4, 5, 6, 1, 7, 3, 4]"
      ]
     },
     "execution_count": 32,
     "metadata": {},
     "output_type": "execute_result"
    }
   ],
   "source": [
    "rdd6.flatMap( lambda x : x ).collect()"
   ]
  },
  {
   "cell_type": "code",
   "execution_count": 33,
   "metadata": {},
   "outputs": [
    {
     "data": {
      "text/plain": [
       "[(1, 1),\n",
       " (2, 1),\n",
       " (3, 1),\n",
       " (4, 1),\n",
       " (5, 1),\n",
       " (6, 1),\n",
       " (1, 1),\n",
       " (7, 1),\n",
       " (3, 1),\n",
       " (4, 1)]"
      ]
     },
     "execution_count": 33,
     "metadata": {},
     "output_type": "execute_result"
    }
   ],
   "source": [
    "rdd7 = rdd6.flatMap( lambda x : x ).map( lambda x :(x,1) )\n",
    "rdd7.collect()"
   ]
  },
  {
   "cell_type": "code",
   "execution_count": 34,
   "metadata": {},
   "outputs": [
    {
     "data": {
      "text/plain": [
       "[(7, 1),\n",
       " (6, 1),\n",
       " (5, 1),\n",
       " (4, 1),\n",
       " (4, 1),\n",
       " (3, 1),\n",
       " (3, 1),\n",
       " (2, 1),\n",
       " (1, 1),\n",
       " (1, 1)]"
      ]
     },
     "execution_count": 34,
     "metadata": {},
     "output_type": "execute_result"
    }
   ],
   "source": [
    "# Action 함수. => sortByKey() : 키로 정렬된 RDD로 반환.\n",
    "rdd7.sortByKey(ascending = False).collect()"
   ]
  },
  {
   "cell_type": "code",
   "execution_count": 35,
   "metadata": {},
   "outputs": [
    {
     "data": {
      "text/plain": [
       "[(1, 2), (3, 4), (3, 4), (5, 6), (1, 7)]"
      ]
     },
     "execution_count": 35,
     "metadata": {},
     "output_type": "execute_result"
    }
   ],
   "source": [
    "# Action 함수. => sortBy() : key 지정이 가능.\n",
    "rdd6.sortBy(lambda x : x[1]).collect() "
   ]
  },
  {
   "cell_type": "code",
   "execution_count": 36,
   "metadata": {},
   "outputs": [
    {
     "data": {
      "text/plain": [
       "[(1, 2), (2, 1), (3, 2), (4, 2), (5, 1), (6, 1), (7, 1)]"
      ]
     },
     "execution_count": 36,
     "metadata": {},
     "output_type": "execute_result"
    }
   ],
   "source": [
    "rdd7.reduceByKey( lambda x,y : x + y ).collect()"
   ]
  },
  {
   "cell_type": "code",
   "execution_count": 37,
   "metadata": {},
   "outputs": [
    {
     "data": {
      "text/plain": [
       "defaultdict(int, {1: 2, 2: 1, 3: 2, 4: 2, 5: 1, 6: 1, 7: 1})"
      ]
     },
     "execution_count": 37,
     "metadata": {},
     "output_type": "execute_result"
    }
   ],
   "source": [
    "# Action 함수. => countByKey() : 각 키에 대한 값의 개수를 센다\n",
    "rdd7.countByKey() "
   ]
  },
  {
   "cell_type": "code",
   "execution_count": 38,
   "metadata": {},
   "outputs": [
    {
     "data": {
      "text/plain": [
       "2"
      ]
     },
     "execution_count": 38,
     "metadata": {},
     "output_type": "execute_result"
    }
   ],
   "source": [
    "# 인덱싱 활용이 가능.\n",
    "rdd7.countByKey() [1]"
   ]
  },
  {
   "cell_type": "markdown",
   "metadata": {},
   "source": [
    "#### 문제 1.  aa.txt 에 있는 각 단어의 개수를 구하시오."
   ]
  },
  {
   "cell_type": "code",
   "execution_count": 39,
   "metadata": {},
   "outputs": [
    {
     "data": {
      "text/plain": [
       "['나는 자랑스런', '태극기 앞에', '조국과 태극기', '몸과 나는']"
      ]
     },
     "execution_count": 39,
     "metadata": {},
     "output_type": "execute_result"
    }
   ],
   "source": [
    "rdd8 = sc.textFile('data1/aa.txt')\n",
    "rdd8.collect()"
   ]
  },
  {
   "cell_type": "code",
   "execution_count": 40,
   "metadata": {},
   "outputs": [
    {
     "data": {
      "text/plain": [
       "['나는', '자랑스런', '태극기', '앞에', '조국과', '태극기', '몸과', '나는']"
      ]
     },
     "execution_count": 40,
     "metadata": {},
     "output_type": "execute_result"
    }
   ],
   "source": [
    "rdd8.flatMap( lambda x:x.split()).collect()"
   ]
  },
  {
   "cell_type": "code",
   "execution_count": 41,
   "metadata": {},
   "outputs": [
    {
     "data": {
      "text/plain": [
       "[('나는', 1),\n",
       " ('자랑스런', 1),\n",
       " ('태극기', 1),\n",
       " ('앞에', 1),\n",
       " ('조국과', 1),\n",
       " ('태극기', 1),\n",
       " ('몸과', 1),\n",
       " ('나는', 1)]"
      ]
     },
     "execution_count": 41,
     "metadata": {},
     "output_type": "execute_result"
    }
   ],
   "source": [
    "rdd8.flatMap( lambda x:x.split()).map( lambda x : (x,1)).collect()"
   ]
  },
  {
   "cell_type": "code",
   "execution_count": 42,
   "metadata": {},
   "outputs": [
    {
     "data": {
      "text/plain": [
       "defaultdict(int, {'나는': 2, '자랑스런': 1, '태극기': 2, '앞에': 1, '조국과': 1, '몸과': 1})"
      ]
     },
     "execution_count": 42,
     "metadata": {},
     "output_type": "execute_result"
    }
   ],
   "source": [
    "rdd8.flatMap( lambda x:x.split()).map( lambda x : (x,1)).countByKey()"
   ]
  },
  {
   "cell_type": "code",
   "execution_count": 43,
   "metadata": {},
   "outputs": [
    {
     "data": {
      "text/plain": [
       "[('나는', 2), ('자랑스런', 1), ('태극기', 2), ('앞에', 1), ('조국과', 1), ('몸과', 1)]"
      ]
     },
     "execution_count": 43,
     "metadata": {},
     "output_type": "execute_result"
    }
   ],
   "source": [
    "rdd8.flatMap( lambda x:x.split()).map( lambda x : (x,1)).reduceByKey(lambda x,y: x+y).collect()"
   ]
  },
  {
   "cell_type": "markdown",
   "metadata": {},
   "source": [
    "#### 문제 2. w.txt 에 있는 각 단어의 개수를 구하시오."
   ]
  },
  {
   "cell_type": "code",
   "execution_count": 44,
   "metadata": {},
   "outputs": [
    {
     "data": {
      "text/plain": [
       "['이명박(MB) 전 대통령의 측근인 이재오 국민의힘 상임고문은 4일 더불어민주당이 전직 대통령 사면에 ‘당사자의 반성’을 조건으로 달자 “시중의 잡범들에게나 하는 얘기”라고 비난했다.',\n",
       " '',\n",
       " '이 상임고문은 이날 CBS라디오 김현정의 뉴스쇼에서 “(수감된 이명박·박근혜 전 대통령이) 살인·강도나 잡범도 아니고, 한 나라의 정권을 담당했던 전직 대통령들 아니냐”며 이같이 말했다.',\n",
       " '',\n",
       " '그는 “당사자들 입장에선 2년, 3년 감옥에서 산 것만 해도 억울한데, 내보내 주려면 곱게 내보내 주는 거지 무슨 소리냐”며 “대법원 판결은 판결이고, 정치적 보복에 대한 억울함은 (별개)”라고 했다.',\n",
       " '',\n",
       " '이낙연 더불어민주당 대표가 꺼낸 이명박·박근혜 전 대통령 사면 문제와 관련 청와대와 여당 지도부 간 사전 공감대가 있었을 것이라고 했다. 이 상임고문은 사면에 대한 국민적 공감대가 필요하다는 여당의 주장에 관해서는 ‘사면권자의 판단 문제’라고 했다.',\n",
       " '',\n",
       " '이 상임고문은 “여당 대표가 그 정도 이야기를 할 때는 청와대에 이야기하는 게 수순”이라며 “국정에 영향을 미치지 않는 문제는 대표가 개인적으로 (말을) 할 수 있지만 사면권은 대통령에게 있기 때문에 사전에 귀띔이라도 했어야 한다. 그렇지 않았다면 그건 무모한 짓”이라고 했다.',\n",
       " '',\n",
       " '그는 “이 대표와 국회의원을 같이 했지만 그분이 무모하게 내지르고 하실 분은 아니다”며 “돌다리도 두들겨 보고 가는 사람”이라고 덧붙였다.',\n",
       " '',\n",
       " '그는 “국민의 동의라는 것은 찬성하는 사람도 있고, 반대하는 사람도 있을 것이다. 국민 동의라는 것이 국민 전원이 찬성하거나 반대하는 것은 아니지 않냐”며 “그렇다면 이것은 판단의 문제”라고 했다.',\n",
       " '',\n",
       " '이 상임 고문은 “(여당에서는 당사자의) 반성이 중요하다고 했는데 전직 대통령 입장에서는 반성하려면 (자신들을) 잡아간 사람이 해야지, 잡혀 간 사람이 무슨 반성을 하냐. 말이 되는 소리냐”고 했다.',\n",
       " '',\n",
       " '‘당사자가 반성해야 국민적 공감대가 형성되지 않겠느냐’는 지적에 그는 “그건 잡범들에게나 하는 이야기다. 찬성을 택하느냐, 반대를 택하느냐는 사면권자의 정치적인 결단”이라고 했다.',\n",
       " '',\n",
       " '이 상임 고문은 “(사면) 당사자들은 그동안 감옥에서 산 것도 억울할 것”이라며 “사면을 하는 사람이 내가 칼자루를 잡았다고 반성하고 사과하라는 이야기를 하는 것은 역대 어느 정권에서도 없었다. 전두환 전 대통령이 김대중 전 대통령을 사면할 때도 그런 일은 없었다”고 했다.']"
      ]
     },
     "execution_count": 44,
     "metadata": {},
     "output_type": "execute_result"
    }
   ],
   "source": [
    "rdd9 = sc.textFile('data1/w.txt')\n",
    "rdd9.collect()"
   ]
  },
  {
   "cell_type": "code",
   "execution_count": 45,
   "metadata": {},
   "outputs": [
    {
     "data": {
      "text/plain": [
       "defaultdict(int,\n",
       "            {'이명박(MB)': 1,\n",
       "             '전': 5,\n",
       "             '대통령의': 1,\n",
       "             '측근인': 1,\n",
       "             '이재오': 1,\n",
       "             '국민의힘': 1,\n",
       "             '상임고문은': 4,\n",
       "             '4일': 1,\n",
       "             '더불어민주당이': 1,\n",
       "             '전직': 3,\n",
       "             '대통령': 3,\n",
       "             '사면에': 2,\n",
       "             '‘당사자의': 1,\n",
       "             '반성’을': 1,\n",
       "             '조건으로': 1,\n",
       "             '달자': 1,\n",
       "             '“시중의': 1,\n",
       "             '잡범들에게나': 2,\n",
       "             '하는': 4,\n",
       "             '얘기”라고': 1,\n",
       "             '비난했다.': 1,\n",
       "             '이': 5,\n",
       "             '이날': 1,\n",
       "             'CBS라디오': 1,\n",
       "             '김현정의': 1,\n",
       "             '뉴스쇼에서': 1,\n",
       "             '“(수감된': 1,\n",
       "             '이명박·박근혜': 2,\n",
       "             '대통령이)': 1,\n",
       "             '살인·강도나': 1,\n",
       "             '잡범도': 1,\n",
       "             '아니고,': 1,\n",
       "             '한': 1,\n",
       "             '나라의': 1,\n",
       "             '정권을': 1,\n",
       "             '담당했던': 1,\n",
       "             '대통령들': 1,\n",
       "             '아니냐”며': 1,\n",
       "             '이같이': 1,\n",
       "             '말했다.': 1,\n",
       "             '그는': 4,\n",
       "             '“당사자들': 1,\n",
       "             '입장에선': 1,\n",
       "             '2년,': 1,\n",
       "             '3년': 1,\n",
       "             '감옥에서': 2,\n",
       "             '산': 2,\n",
       "             '것만': 1,\n",
       "             '해도': 1,\n",
       "             '억울한데,': 1,\n",
       "             '내보내': 2,\n",
       "             '주려면': 1,\n",
       "             '곱게': 1,\n",
       "             '주는': 1,\n",
       "             '거지': 1,\n",
       "             '무슨': 2,\n",
       "             '소리냐”며': 1,\n",
       "             '“대법원': 1,\n",
       "             '판결은': 1,\n",
       "             '판결이고,': 1,\n",
       "             '정치적': 1,\n",
       "             '보복에': 1,\n",
       "             '대한': 2,\n",
       "             '억울함은': 1,\n",
       "             '(별개)”라고': 1,\n",
       "             '했다.': 8,\n",
       "             '이낙연': 1,\n",
       "             '더불어민주당': 1,\n",
       "             '대표가': 3,\n",
       "             '꺼낸': 1,\n",
       "             '사면': 1,\n",
       "             '문제와': 1,\n",
       "             '관련': 1,\n",
       "             '청와대와': 1,\n",
       "             '여당': 1,\n",
       "             '지도부': 1,\n",
       "             '간': 2,\n",
       "             '사전': 1,\n",
       "             '공감대가': 3,\n",
       "             '있었을': 1,\n",
       "             '것이라고': 1,\n",
       "             '국민적': 2,\n",
       "             '필요하다는': 1,\n",
       "             '여당의': 1,\n",
       "             '주장에': 1,\n",
       "             '관해서는': 1,\n",
       "             '‘사면권자의': 1,\n",
       "             '판단': 1,\n",
       "             '문제’라고': 1,\n",
       "             '“여당': 1,\n",
       "             '그': 1,\n",
       "             '정도': 1,\n",
       "             '이야기를': 2,\n",
       "             '할': 2,\n",
       "             '때는': 1,\n",
       "             '청와대에': 1,\n",
       "             '이야기하는': 1,\n",
       "             '게': 1,\n",
       "             '수순”이라며': 1,\n",
       "             '“국정에': 1,\n",
       "             '영향을': 1,\n",
       "             '미치지': 1,\n",
       "             '않는': 1,\n",
       "             '문제는': 1,\n",
       "             '개인적으로': 1,\n",
       "             '(말을)': 1,\n",
       "             '수': 1,\n",
       "             '있지만': 1,\n",
       "             '사면권은': 1,\n",
       "             '대통령에게': 1,\n",
       "             '있기': 1,\n",
       "             '때문에': 1,\n",
       "             '사전에': 1,\n",
       "             '귀띔이라도': 1,\n",
       "             '했어야': 1,\n",
       "             '한다.': 1,\n",
       "             '그렇지': 1,\n",
       "             '않았다면': 1,\n",
       "             '그건': 1,\n",
       "             '무모한': 1,\n",
       "             '짓”이라고': 1,\n",
       "             '“이': 1,\n",
       "             '대표와': 1,\n",
       "             '국회의원을': 1,\n",
       "             '같이': 1,\n",
       "             '했지만': 1,\n",
       "             '그분이': 1,\n",
       "             '무모하게': 1,\n",
       "             '내지르고': 1,\n",
       "             '하실': 1,\n",
       "             '분은': 1,\n",
       "             '아니다”며': 1,\n",
       "             '“돌다리도': 1,\n",
       "             '두들겨': 1,\n",
       "             '보고': 1,\n",
       "             '가는': 1,\n",
       "             '사람”이라고': 1,\n",
       "             '덧붙였다.': 1,\n",
       "             '“국민의': 1,\n",
       "             '동의라는': 2,\n",
       "             '것은': 3,\n",
       "             '찬성하는': 1,\n",
       "             '사람도': 2,\n",
       "             '있고,': 1,\n",
       "             '반대하는': 2,\n",
       "             '있을': 1,\n",
       "             '것이다.': 1,\n",
       "             '국민': 2,\n",
       "             '것이': 1,\n",
       "             '전원이': 1,\n",
       "             '찬성하거나': 1,\n",
       "             '아니지': 1,\n",
       "             '않냐”며': 1,\n",
       "             '“그렇다면': 1,\n",
       "             '이것은': 1,\n",
       "             '판단의': 1,\n",
       "             '문제”라고': 1,\n",
       "             '상임': 2,\n",
       "             '고문은': 2,\n",
       "             '“(여당에서는': 1,\n",
       "             '당사자의)': 1,\n",
       "             '반성이': 1,\n",
       "             '중요하다고': 1,\n",
       "             '했는데': 1,\n",
       "             '입장에서는': 1,\n",
       "             '반성하려면': 1,\n",
       "             '(자신들을)': 1,\n",
       "             '잡아간': 1,\n",
       "             '사람이': 3,\n",
       "             '해야지,': 1,\n",
       "             '잡혀': 1,\n",
       "             '반성을': 1,\n",
       "             '하냐.': 1,\n",
       "             '말이': 1,\n",
       "             '되는': 1,\n",
       "             '소리냐”고': 1,\n",
       "             '‘당사자가': 1,\n",
       "             '반성해야': 1,\n",
       "             '형성되지': 1,\n",
       "             '않겠느냐’는': 1,\n",
       "             '지적에': 1,\n",
       "             '“그건': 1,\n",
       "             '이야기다.': 1,\n",
       "             '찬성을': 1,\n",
       "             '택하느냐,': 1,\n",
       "             '반대를': 1,\n",
       "             '택하느냐는': 1,\n",
       "             '사면권자의': 1,\n",
       "             '정치적인': 1,\n",
       "             '결단”이라고': 1,\n",
       "             '“(사면)': 1,\n",
       "             '당사자들은': 1,\n",
       "             '그동안': 1,\n",
       "             '것도': 1,\n",
       "             '억울할': 1,\n",
       "             '것”이라며': 1,\n",
       "             '“사면을': 1,\n",
       "             '내가': 1,\n",
       "             '칼자루를': 1,\n",
       "             '잡았다고': 1,\n",
       "             '반성하고': 1,\n",
       "             '사과하라는': 1,\n",
       "             '역대': 1,\n",
       "             '어느': 1,\n",
       "             '정권에서도': 1,\n",
       "             '없었다.': 1,\n",
       "             '전두환': 1,\n",
       "             '대통령이': 1,\n",
       "             '김대중': 1,\n",
       "             '대통령을': 1,\n",
       "             '사면할': 1,\n",
       "             '때도': 1,\n",
       "             '그런': 1,\n",
       "             '일은': 1,\n",
       "             '없었다”고': 1})"
      ]
     },
     "execution_count": 45,
     "metadata": {},
     "output_type": "execute_result"
    }
   ],
   "source": [
    "rdd9.flatMap( lambda x:x.split()).map( lambda x : (x,1)).countByKey()"
   ]
  },
  {
   "cell_type": "code",
   "execution_count": 46,
   "metadata": {},
   "outputs": [
    {
     "data": {
      "text/plain": [
       "[('했다.', 8),\n",
       " ('전', 5),\n",
       " ('이', 5),\n",
       " ('상임고문은', 4),\n",
       " ('하는', 4),\n",
       " ('그는', 4),\n",
       " ('전직', 3),\n",
       " ('대통령', 3),\n",
       " ('대표가', 3),\n",
       " ('공감대가', 3)]"
      ]
     },
     "execution_count": 46,
     "metadata": {},
     "output_type": "execute_result"
    }
   ],
   "source": [
    "rdd10 = rdd9.flatMap( lambda x:x.split()).map( lambda x : (x,1)).reduceByKey(lambda x,y: x + y).\\\n",
    "            sortBy(lambda x : x[1], ascending=False).take(10)\n",
    "rdd10"
   ]
  },
  {
   "cell_type": "code",
   "execution_count": 47,
   "metadata": {},
   "outputs": [],
   "source": [
    "# sc을 종료시킴.\n",
    "sc.stop()"
   ]
  }
 ],
 "metadata": {
  "kernelspec": {
   "display_name": "Python 3",
   "language": "python",
   "name": "python3"
  },
  "language_info": {
   "codemirror_mode": {
    "name": "ipython",
    "version": 3
   },
   "file_extension": ".py",
   "mimetype": "text/x-python",
   "name": "python",
   "nbconvert_exporter": "python",
   "pygments_lexer": "ipython3",
   "version": "3.7.6"
  }
 },
 "nbformat": 4,
 "nbformat_minor": 4
}
