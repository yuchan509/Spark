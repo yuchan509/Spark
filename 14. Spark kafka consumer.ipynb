{
 "cells": [
  {
   "cell_type": "code",
   "execution_count": 1,
   "metadata": {},
   "outputs": [],
   "source": [
    "import sys, os\n",
    "import sqlite3\n",
    "from pyspark import SparkContext, SparkConf\n",
    "from pyspark.streaming import StreamingContext\n",
    "from pyspark.streaming.kafka import KafkaUtils"
   ]
  },
  {
   "cell_type": "code",
   "execution_count": 2,
   "metadata": {},
   "outputs": [],
   "source": [
    "os.environ['PYSPARK_SUBMIT_ARGS'] = '--packages org.apache.spark:spark-streaming-kafka-0-8_2.11:2.3.2 pyspark-shell' "
   ]
  },
  {
   "cell_type": "code",
   "execution_count": 3,
   "metadata": {},
   "outputs": [],
   "source": [
    "sc     = SparkContext( appName='streamTest' )  \n",
    "ssc    = StreamingContext(sc, 5)"
   ]
  },
  {
   "cell_type": "code",
   "execution_count": 4,
   "metadata": {},
   "outputs": [],
   "source": [
    "def insertData(data):\n",
    "    try:\n",
    "        sql = 'insert into ktest values(?,?)'\n",
    "        db  = sqlite3.connect(r'C:\\my.db')\n",
    "        db.excute( sql, data )\n",
    "        db.commit( )  # insert, delete, update\n",
    "        db.close()\n",
    "    except Exception as err:\n",
    "        print(\"에러:\", err )"
   ]
  },
  {
   "cell_type": "code",
   "execution_count": 5,
   "metadata": {},
   "outputs": [],
   "source": [
    "def recvData( data ):\n",
    "    insertData( data ) \n",
    "    print(\"data=\", data)  # ('키','값')\n",
    "    return data"
   ]
  },
  {
   "cell_type": "code",
   "execution_count": 6,
   "metadata": {
    "scrolled": true
   },
   "outputs": [
    {
     "data": {
      "text/plain": [
       "False"
      ]
     },
     "execution_count": 6,
     "metadata": {},
     "output_type": "execute_result"
    }
   ],
   "source": [
    "topic  = 'sample'\n",
    "kvs    = KafkaUtils.createStream(ssc, 'localhost', 'raw-event-streaming-consumer', {topic:1})\n",
    "# ============================================================================================\n",
    "# 메시지 수신시 redvData call\n",
    "lines  = kvs.map( recvData )  # 콜백 함수 등록\n",
    "lines.pprint()                # 상태메시지\n",
    "# ============================================================================================\n",
    "ssc.start()                   # 폴링 시작 (5초에 한번씩 카프카 클러스터에서 smaple topic 확인.)\n",
    "ssc.awaitTerminationOrTimeout(2)"
   ]
  },
  {
   "cell_type": "code",
   "execution_count": 7,
   "metadata": {},
   "outputs": [],
   "source": [
    "# 폴링 중지.\n",
    "sc.stop()                  "
   ]
  }
 ],
 "metadata": {
  "kernelspec": {
   "display_name": "Python 3",
   "language": "python",
   "name": "python3"
  },
  "language_info": {
   "codemirror_mode": {
    "name": "ipython",
    "version": 3
   },
   "file_extension": ".py",
   "mimetype": "text/x-python",
   "name": "python",
   "nbconvert_exporter": "python",
   "pygments_lexer": "ipython3",
   "version": "3.7.6"
  }
 },
 "nbformat": 4,
 "nbformat_minor": 4
}
