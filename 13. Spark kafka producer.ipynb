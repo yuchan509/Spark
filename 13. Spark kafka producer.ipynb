{
 "cells": [
  {
   "cell_type": "markdown",
   "metadata": {},
   "source": [
    "### 카프카 서버 스타트\n",
    "\n",
    "* bin\\windows\\zookeeper-server-start.bat zookeeper.properties\n",
    "* bin\\windows\\kafka-server-start.bat server.properties"
   ]
  },
  {
   "cell_type": "code",
   "execution_count": 1,
   "metadata": {
    "scrolled": true
   },
   "outputs": [
    {
     "name": "stdout",
     "output_type": "stream",
     "text": [
      "Requirement already satisfied: kafka-python in c:\\programdata\\anaconda3\\lib\\site-packages (2.0.2)\n"
     ]
    }
   ],
   "source": [
    "!pip install kafka-python"
   ]
  },
  {
   "cell_type": "code",
   "execution_count": 5,
   "metadata": {
    "scrolled": true
   },
   "outputs": [
    {
     "name": "stdout",
     "output_type": "stream",
     "text": [
      "s= <class 'bytes'>\n",
      "<class 'bytes'>\n",
      "104\n",
      "b= <class 'str'>\n"
     ]
    }
   ],
   "source": [
    "# 통신 : octet(byte)\n",
    "# app <---시리얼 통신(send, recv)---> 장치\n",
    "# app <--- 소켓 통신(send, recv) ---> 서버\n",
    "# send (str --> bytes 변환)\n",
    "# recv (bytes --> str 변환)\n",
    "s = 'hello'  # 문자열( 문자 1개의 사이즈 => 2byte )\n",
    "s = s.encode()\n",
    "print('s=', type(s))\n",
    "\n",
    "b = b'hello'  # h(1byte)\n",
    "print( type(b) )\n",
    "print( b[0] )\n",
    "b = b.decode()\n",
    "print('b=', type(b))"
   ]
  },
  {
   "cell_type": "code",
   "execution_count": 6,
   "metadata": {},
   "outputs": [],
   "source": [
    "from kafka import KafkaProducer\n",
    "import time"
   ]
  },
  {
   "cell_type": "code",
   "execution_count": null,
   "metadata": {},
   "outputs": [],
   "source": [
    "producer = KafkaProducer( bootstrap_servers=['localhost:9092'], api_version=(0,10) )\n",
    "producer.send('sample', key=b'one', value=b'one data')\n",
    "producer.send('sample', key=b'two', value=b'two data')\n",
    "producer.flush()\n",
    "print('success')\n",
    "# 3초간 대기 (굳이 필요치 않음.)\n",
    "time.sleep(3) "
   ]
  }
 ],
 "metadata": {
  "kernelspec": {
   "display_name": "Python 3",
   "language": "python",
   "name": "python3"
  },
  "language_info": {
   "codemirror_mode": {
    "name": "ipython",
    "version": 3
   },
   "file_extension": ".py",
   "mimetype": "text/x-python",
   "name": "python",
   "nbconvert_exporter": "python",
   "pygments_lexer": "ipython3",
   "version": "3.7.6"
  }
 },
 "nbformat": 4,
 "nbformat_minor": 4
}
