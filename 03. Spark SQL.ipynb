{
 "cells": [
  {
   "cell_type": "code",
   "execution_count": 1,
   "metadata": {},
   "outputs": [],
   "source": [
    "from pyspark import SparkContext\n",
    "from pyspark.sql import SQLContext, Row\n",
    "import pandas as pd\n",
    "import numpy as np"
   ]
  },
  {
   "cell_type": "code",
   "execution_count": 2,
   "metadata": {},
   "outputs": [],
   "source": [
    "sc     = SparkContext('local')  \n",
    "sqlCtx = SQLContext( sc )\n",
    "emp    = [('홍길동',1),('이순신',2),('임꺽정',3),('김철수',3),('김철수1',5)]\n",
    "dept   = [('개발',1), ('연구',2), ('영업',3),('기획',4) ]\n",
    "\n",
    "empRdd  = sc.parallelize(emp)\n",
    "deptRdd = sc.parallelize(dept)"
   ]
  },
  {
   "cell_type": "code",
   "execution_count": 3,
   "metadata": {},
   "outputs": [
    {
     "data": {
      "text/plain": [
       "DataFrame[_1: string, _2: bigint]"
      ]
     },
     "execution_count": 3,
     "metadata": {},
     "output_type": "execute_result"
    }
   ],
   "source": [
    "# RDD => Data frame.\n",
    "empDF = empRdd.toDF() \n",
    "empDF"
   ]
  },
  {
   "cell_type": "code",
   "execution_count": 4,
   "metadata": {},
   "outputs": [
    {
     "name": "stdout",
     "output_type": "stream",
     "text": [
      "+-------+---+\n",
      "|     _1| _2|\n",
      "+-------+---+\n",
      "| 홍길동|  1|\n",
      "| 이순신|  2|\n",
      "| 임꺽정|  3|\n",
      "| 김철수|  3|\n",
      "|김철수1|  5|\n",
      "+-------+---+\n",
      "\n"
     ]
    }
   ],
   "source": [
    "# show() : 데이터 보기. \n",
    "empDF.show()"
   ]
  },
  {
   "cell_type": "code",
   "execution_count": 5,
   "metadata": {},
   "outputs": [
    {
     "name": "stdout",
     "output_type": "stream",
     "text": [
      "+-------+---+\n",
      "|     _1| _2|\n",
      "+-------+---+\n",
      "| 홍길동|  1|\n",
      "| 이순신|  2|\n",
      "| 임꺽정|  3|\n",
      "| 김철수|  3|\n",
      "|김철수1|  5|\n",
      "+-------+---+\n",
      "\n"
     ]
    }
   ],
   "source": [
    "# RDD => Data frame\n",
    "empDF1 = sqlCtx.createDataFrame( emp )\n",
    "empDF1.show()"
   ]
  },
  {
   "cell_type": "code",
   "execution_count": 6,
   "metadata": {},
   "outputs": [
    {
     "data": {
      "text/html": [
       "<div>\n",
       "<style scoped>\n",
       "    .dataframe tbody tr th:only-of-type {\n",
       "        vertical-align: middle;\n",
       "    }\n",
       "\n",
       "    .dataframe tbody tr th {\n",
       "        vertical-align: top;\n",
       "    }\n",
       "\n",
       "    .dataframe thead th {\n",
       "        text-align: right;\n",
       "    }\n",
       "</style>\n",
       "<table border=\"1\" class=\"dataframe\">\n",
       "  <thead>\n",
       "    <tr style=\"text-align: right;\">\n",
       "      <th></th>\n",
       "      <th>_1</th>\n",
       "      <th>_2</th>\n",
       "    </tr>\n",
       "  </thead>\n",
       "  <tbody>\n",
       "    <tr>\n",
       "      <th>0</th>\n",
       "      <td>홍길동</td>\n",
       "      <td>1</td>\n",
       "    </tr>\n",
       "    <tr>\n",
       "      <th>1</th>\n",
       "      <td>이순신</td>\n",
       "      <td>2</td>\n",
       "    </tr>\n",
       "    <tr>\n",
       "      <th>2</th>\n",
       "      <td>임꺽정</td>\n",
       "      <td>3</td>\n",
       "    </tr>\n",
       "    <tr>\n",
       "      <th>3</th>\n",
       "      <td>김철수</td>\n",
       "      <td>3</td>\n",
       "    </tr>\n",
       "    <tr>\n",
       "      <th>4</th>\n",
       "      <td>김철수1</td>\n",
       "      <td>5</td>\n",
       "    </tr>\n",
       "  </tbody>\n",
       "</table>\n",
       "</div>"
      ],
      "text/plain": [
       "     _1  _2\n",
       "0   홍길동   1\n",
       "1   이순신   2\n",
       "2   임꺽정   3\n",
       "3   김철수   3\n",
       "4  김철수1   5"
      ]
     },
     "execution_count": 6,
     "metadata": {},
     "output_type": "execute_result"
    }
   ],
   "source": [
    "# RDD.collect() 분산의 데이터 프레임 => Pandas의 데이터프레임.\n",
    "df = empDF1.toPandas()\n",
    "df"
   ]
  },
  {
   "cell_type": "code",
   "execution_count": 7,
   "metadata": {},
   "outputs": [
    {
     "name": "stdout",
     "output_type": "stream",
     "text": [
      "+-------+------+\n",
      "|   name|deptid|\n",
      "+-------+------+\n",
      "| 홍길동|     1|\n",
      "| 이순신|     2|\n",
      "| 임꺽정|     3|\n",
      "| 김철수|     3|\n",
      "|김철수1|     5|\n",
      "+-------+------+\n",
      "\n"
     ]
    }
   ],
   "source": [
    "empDF2 = sqlCtx.createDataFrame( emp, ['name', 'deptid'])\n",
    "empDF2.show()"
   ]
  },
  {
   "cell_type": "code",
   "execution_count": 8,
   "metadata": {},
   "outputs": [
    {
     "name": "stdout",
     "output_type": "stream",
     "text": [
      "root\n",
      " |-- name: string (nullable = true)\n",
      " |-- deptid: long (nullable = true)\n",
      "\n"
     ]
    }
   ],
   "source": [
    "# printSchema() : info의 역할.\n",
    "empDF2.printSchema() "
   ]
  },
  {
   "cell_type": "code",
   "execution_count": 9,
   "metadata": {},
   "outputs": [],
   "source": [
    "empDF2.createOrReplaceTempView('my')"
   ]
  },
  {
   "cell_type": "code",
   "execution_count": 10,
   "metadata": {},
   "outputs": [
    {
     "name": "stdout",
     "output_type": "stream",
     "text": [
      "+---+\n",
      "|  s|\n",
      "+---+\n",
      "|  2|\n",
      "|  4|\n",
      "|  6|\n",
      "|  6|\n",
      "| 10|\n",
      "+---+\n",
      "\n"
     ]
    }
   ],
   "source": [
    "# < SQL문 >\n",
    "\n",
    "# sql = \" select * from my \"\n",
    "# sql = \" select name, deptid from my where deptid > 2 \"\n",
    "# sql = \" select name, deptid from my where name like '%김%'\"\n",
    "# sql = \" select name from my \"\n",
    "# sql = \" select name, deptid from my where name rlike '수$'\"\n",
    "# sql = \" select name, deptid from my where name rlike '[김정]'\"\n",
    "# sql = \" select name, deptid from my order by name desc\"\n",
    "# sql = \" select name, deptid from my order by deptid desc limit 3\"\n",
    "# sql = \" select max(deptid) from my\"\n",
    "# sql = \" select sum(deptid) from my \"\n",
    "# sql = \" select mean(deptid) from my \"\n",
    "# sql = \" select avg(deptid) from my \"\n",
    "# sql = \" select count(*) from my \"  # 전체 열의 개수\n",
    "# sql = \" select sum(deptid), avg(deptid) from my \"\n",
    "# sql = \" select name, deptid from my where name rlike '이'\"\n",
    "sql = \" select deptid*2 as s from my \"\n",
    "\n",
    "sqlDF = sqlCtx.sql(sql)\n",
    "sqlDF.show()"
   ]
  },
  {
   "cell_type": "markdown",
   "metadata": {},
   "source": [
    "#### 문제 1.\n",
    "\n",
    "- 0. name salary 컬럼명을 가지는 데이터프레임을 만드시요.\n",
    "\n",
    "- 1. 급여가 가장높은 name과 salary를 출력하시요\n",
    "\n",
    "- 2. name, salary, tax 를 출력하시요 (tax는 급여에서 세금 3.3을 제한값)\n",
    "\n",
    "- 3. name 에 '철'이 포함된  name,salary 를 출력하시요\n",
    "\n",
    "- 4. salary top 5 인 name, salary 출력하시요\n",
    "\n",
    "- 5. salary  2000  과 4000 사이의 데이터를 출력하시요"
   ]
  },
  {
   "cell_type": "markdown",
   "metadata": {},
   "source": [
    "0. name salary 컬럼명을 가지는 데이터프레임을 만드시요."
   ]
  },
  {
   "cell_type": "code",
   "execution_count": 11,
   "metadata": {},
   "outputs": [],
   "source": [
    "data1 = ['홍길동,1000','이순신,2000','임꺽정,3000','김철수,4000','이황,5000','이이,6000']"
   ]
  },
  {
   "cell_type": "code",
   "execution_count": 12,
   "metadata": {},
   "outputs": [],
   "source": [
    "dataRdd = sc.parallelize( data1 )"
   ]
  },
  {
   "cell_type": "code",
   "execution_count": 13,
   "metadata": {},
   "outputs": [],
   "source": [
    "data2 = dataRdd.map( lambda x: x.split(',')).map( lambda x: (x[0], int(x[1])))"
   ]
  },
  {
   "cell_type": "code",
   "execution_count": 14,
   "metadata": {},
   "outputs": [
    {
     "data": {
      "text/plain": [
       "DataFrame[name: string, salary: bigint]"
      ]
     },
     "execution_count": 14,
     "metadata": {},
     "output_type": "execute_result"
    }
   ],
   "source": [
    "df1 = sqlCtx.createDataFrame( data2, ['name', 'salary'])\n",
    "df1"
   ]
  },
  {
   "cell_type": "code",
   "execution_count": 15,
   "metadata": {},
   "outputs": [],
   "source": [
    "df1.createOrReplaceTempView('ya')"
   ]
  },
  {
   "cell_type": "markdown",
   "metadata": {},
   "source": [
    "1. 급여가 가장높은 name과 salary를 출력하시요"
   ]
  },
  {
   "cell_type": "code",
   "execution_count": 16,
   "metadata": {},
   "outputs": [
    {
     "name": "stdout",
     "output_type": "stream",
     "text": [
      "+----+------+\n",
      "|name|salary|\n",
      "+----+------+\n",
      "|이이|  6000|\n",
      "+----+------+\n",
      "\n"
     ]
    }
   ],
   "source": [
    "sql = \" select name, salary from ya order by salary desc limit 1\" \n",
    "sqlDF = sqlCtx.sql(sql)\n",
    "sqlDF.show()"
   ]
  },
  {
   "cell_type": "code",
   "execution_count": 17,
   "metadata": {},
   "outputs": [
    {
     "name": "stdout",
     "output_type": "stream",
     "text": [
      "+----+------+\n",
      "|name|salary|\n",
      "+----+------+\n",
      "|이이|  6000|\n",
      "+----+------+\n",
      "\n"
     ]
    }
   ],
   "source": [
    "sql = \" select * from ya where salary==(select max(salary) from ya) \"\n",
    "sqlDF.show()"
   ]
  },
  {
   "cell_type": "markdown",
   "metadata": {},
   "source": [
    "2. name, salary, tax 를 출력하시요 (tax는 급여에서 세금 3.3을 제한값)"
   ]
  },
  {
   "cell_type": "code",
   "execution_count": 18,
   "metadata": {},
   "outputs": [
    {
     "name": "stdout",
     "output_type": "stream",
     "text": [
      "+------+------+--------+\n",
      "|  name|salary|     tax|\n",
      "+------+------+--------+\n",
      "|홍길동|  1000| 967.000|\n",
      "|이순신|  2000|1934.000|\n",
      "|임꺽정|  3000|2901.000|\n",
      "|김철수|  4000|3868.000|\n",
      "|  이황|  5000|4835.000|\n",
      "|  이이|  6000|5802.000|\n",
      "+------+------+--------+\n",
      "\n"
     ]
    }
   ],
   "source": [
    "sql = \" select name, salary, salary*(1-0.033) as tax from ya\" \n",
    "sqlDF = sqlCtx.sql(sql)\n",
    "sqlDF.show()"
   ]
  },
  {
   "cell_type": "markdown",
   "metadata": {},
   "source": [
    "3. name 에 '철'이 포함된 name,salary 를 출력하시요"
   ]
  },
  {
   "cell_type": "code",
   "execution_count": 19,
   "metadata": {},
   "outputs": [
    {
     "name": "stdout",
     "output_type": "stream",
     "text": [
      "+------+------+\n",
      "|  name|salary|\n",
      "+------+------+\n",
      "|김철수|  4000|\n",
      "+------+------+\n",
      "\n"
     ]
    }
   ],
   "source": [
    "sql = \" select name, salary from ya where name rlike '철' \"\n",
    "sqlDF = sqlCtx.sql(sql)\n",
    "sqlDF.show()"
   ]
  },
  {
   "cell_type": "markdown",
   "metadata": {},
   "source": [
    "4. salary top 5 인 name, salary 출력하시요"
   ]
  },
  {
   "cell_type": "code",
   "execution_count": 20,
   "metadata": {},
   "outputs": [
    {
     "name": "stdout",
     "output_type": "stream",
     "text": [
      "+------+------+\n",
      "|  name|salary|\n",
      "+------+------+\n",
      "|  이이|  6000|\n",
      "|  이황|  5000|\n",
      "|김철수|  4000|\n",
      "|임꺽정|  3000|\n",
      "|이순신|  2000|\n",
      "+------+------+\n",
      "\n"
     ]
    }
   ],
   "source": [
    "sql = \" select name, salary from ya order by salary desc limit 5\" \n",
    "sqlDF = sqlCtx.sql(sql)\n",
    "sqlDF.show()"
   ]
  },
  {
   "cell_type": "markdown",
   "metadata": {},
   "source": [
    "5. salary 2000 과 4000 사이의 데이터를 출력하시요"
   ]
  },
  {
   "cell_type": "code",
   "execution_count": 21,
   "metadata": {},
   "outputs": [
    {
     "name": "stdout",
     "output_type": "stream",
     "text": [
      "+------+------+\n",
      "|  name|salary|\n",
      "+------+------+\n",
      "|이순신|  2000|\n",
      "|임꺽정|  3000|\n",
      "|김철수|  4000|\n",
      "+------+------+\n",
      "\n"
     ]
    }
   ],
   "source": [
    "sql = \" select name, salary from ya where salary between 2000 and 4000\" \n",
    "sqlDF = sqlCtx.sql(sql)\n",
    "sqlDF.show()"
   ]
  },
  {
   "cell_type": "code",
   "execution_count": 22,
   "metadata": {},
   "outputs": [],
   "source": [
    "# createOrReplaceTempView() : SQL임시보기로 등록.\n",
    "df1.createOrReplaceTempView('emp')"
   ]
  },
  {
   "cell_type": "markdown",
   "metadata": {},
   "source": [
    "#### subquery"
   ]
  },
  {
   "cell_type": "code",
   "execution_count": 23,
   "metadata": {},
   "outputs": [
    {
     "name": "stdout",
     "output_type": "stream",
     "text": [
      "+----+------+\n",
      "|name|salary|\n",
      "+----+------+\n",
      "|이이|  6000|\n",
      "+----+------+\n",
      "\n"
     ]
    }
   ],
   "source": [
    "# sql = \" select max(salary) from emp\" \n",
    "sql = \" select * from emp where salary==(select max(salary) from emp)\" \n",
    "sqlDF = sqlCtx.sql(sql)\n",
    "sqlDF.show()"
   ]
  },
  {
   "cell_type": "code",
   "execution_count": 24,
   "metadata": {},
   "outputs": [
    {
     "name": "stdout",
     "output_type": "stream",
     "text": [
      "+------+------+----+\n",
      "|  name|salary| sal|\n",
      "+------+------+----+\n",
      "|홍길동|  1000|적음|\n",
      "|이순신|  2000|보통|\n",
      "|임꺽정|  3000|보통|\n",
      "|김철수|  4000|많음|\n",
      "|  이황|  5000|많음|\n",
      "|  이이|  6000|많음|\n",
      "+------+------+----+\n",
      "\n"
     ]
    }
   ],
   "source": [
    "# sql = \" select max(salary) from emp\" \n",
    "sql = ''' select name,salary,\n",
    "        case\n",
    "            when salary>=4000 then '많음'\n",
    "            when salary>=2000 then '보통'\n",
    "            else '적음'\n",
    "            end as sal\n",
    "            from emp\n",
    "            ''' \n",
    "sqlDF = sqlCtx.sql(sql)\n",
    "sqlDF.show()"
   ]
  },
  {
   "cell_type": "markdown",
   "metadata": {},
   "source": [
    "#### hive q1 함수\n",
    "- spark sql : hive ql 의 sql문법과 함수를 따른다\n",
    "- 표준 sql : https://www.w3schools.com/sql/\n",
    "- spark sql 함수: https://rfriend.tistory.com/213\n",
    "- https://spark.apache.org/docs/latest/api/sql/index.html"
   ]
  },
  {
   "cell_type": "code",
   "execution_count": 25,
   "metadata": {},
   "outputs": [
    {
     "name": "stdout",
     "output_type": "stream",
     "text": [
      "+------+------+----+\n",
      "|  name|salary| tax|\n",
      "+------+------+----+\n",
      "|홍길동|  1000| 967|\n",
      "|이순신|  2000|1934|\n",
      "|임꺽정|  3000|2901|\n",
      "|김철수|  4000|3868|\n",
      "|  이황|  5000|4835|\n",
      "|  이이|  6000|5802|\n",
      "+------+------+----+\n",
      "\n"
     ]
    }
   ],
   "source": [
    "sql = \" select name, salary, round(salary*(1-0.033)) as tax from ya\" \n",
    "sqlDF = sqlCtx.sql(sql)\n",
    "sqlDF.show()"
   ]
  },
  {
   "cell_type": "code",
   "execution_count": 26,
   "metadata": {},
   "outputs": [
    {
     "name": "stdout",
     "output_type": "stream",
     "text": [
      "+----+------+-------+\n",
      "|   n|salary|    tax|\n",
      "+----+------+-------+\n",
      "|길동|  1000| 967.00|\n",
      "|순신|  2000|1934.00|\n",
      "|꺽정|  3000|2901.00|\n",
      "|철수|  4000|3868.00|\n",
      "|  황|  5000|4835.00|\n",
      "|  이|  6000|5802.00|\n",
      "+----+------+-------+\n",
      "\n"
     ]
    }
   ],
   "source": [
    "sql = \" select substr(name,2) as n , salary, round(salary*(1-0.033),2 ) as tax from ya\" \n",
    "sqlDF = sqlCtx.sql(sql)\n",
    "sqlDF.show()"
   ]
  },
  {
   "cell_type": "code",
   "execution_count": 27,
   "metadata": {},
   "outputs": [
    {
     "name": "stdout",
     "output_type": "stream",
     "text": [
      "+------------------------------------------+\n",
      "|percentile(salary, CAST(0.5 AS DOUBLE), 1)|\n",
      "+------------------------------------------+\n",
      "|                                    3500.0|\n",
      "+------------------------------------------+\n",
      "\n"
     ]
    }
   ],
   "source": [
    "sql = \" select percentile(salary , 0.5 )  from ya\" \n",
    "sqlDF = sqlCtx.sql(sql)\n",
    "sqlDF.show()"
   ]
  }
 ],
 "metadata": {
  "kernelspec": {
   "display_name": "Python 3",
   "language": "python",
   "name": "python3"
  },
  "language_info": {
   "codemirror_mode": {
    "name": "ipython",
    "version": 3
   },
   "file_extension": ".py",
   "mimetype": "text/x-python",
   "name": "python",
   "nbconvert_exporter": "python",
   "pygments_lexer": "ipython3",
   "version": "3.7.6"
  }
 },
 "nbformat": 4,
 "nbformat_minor": 4
}
