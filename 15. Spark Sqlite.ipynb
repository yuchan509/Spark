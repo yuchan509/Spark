{
 "cells": [
  {
   "cell_type": "code",
   "execution_count": 1,
   "metadata": {},
   "outputs": [],
   "source": [
    "import sqlite3"
   ]
  },
  {
   "cell_type": "code",
   "execution_count": 3,
   "metadata": {},
   "outputs": [],
   "source": [
    "sql = 'create table if not exists ktest(pname varchar(20),ppname varchar(20))'\n",
    "# 데이터베이스가 없으면 생성후 접속. 있으면 바로 접속.\n",
    "db  = sqlite3.connect(r'c:\\my.db')\n",
    "db.execute( sql )\n",
    "db.close()"
   ]
  },
  {
   "cell_type": "code",
   "execution_count": null,
   "metadata": {},
   "outputs": [],
   "source": [
    "sql = 'insert into ktest values(?,?)'\n",
    "db  = sqlite3.connect(r'c:\\my.db')\n",
    "db.excute( sql, ('kkb', 'vvb'))\n",
    "db.commit( sql )  # insert, delete,\n",
    "db.close()"
   ]
  }
 ],
 "metadata": {
  "kernelspec": {
   "display_name": "Python 3",
   "language": "python",
   "name": "python3"
  },
  "language_info": {
   "codemirror_mode": {
    "name": "ipython",
    "version": 3
   },
   "file_extension": ".py",
   "mimetype": "text/x-python",
   "name": "python",
   "nbconvert_exporter": "python",
   "pygments_lexer": "ipython3",
   "version": "3.7.6"
  }
 },
 "nbformat": 4,
 "nbformat_minor": 4
}
