{
 "cells": [
  {
   "cell_type": "code",
   "execution_count": 1,
   "metadata": {},
   "outputs": [],
   "source": [
    "from kafka import KafkaProducer\n",
    "import time"
   ]
  },
  {
   "cell_type": "code",
   "execution_count": 2,
   "metadata": {},
   "outputs": [],
   "source": [
    "# fp = open(r'c:\\a.txt')\n",
    "# r  = fp.read()\n",
    "# print(r)"
   ]
  },
  {
   "cell_type": "code",
   "execution_count": null,
   "metadata": {},
   "outputs": [
    {
     "name": "stdout",
     "output_type": "stream",
     "text": [
      "0:0:0:0:0:0:0:1 /\n",
      "0:0:0:0:0:0:0:1 /tomcat.svg\n",
      "0:0:0:0:0:0:0:1 /tomcat.css\n",
      "0:0:0:0:0:0:0:1 /bg-nav.png\n",
      "0:0:0:0:0:0:0:1 /asf-logo-wide.svg\n",
      "0:0:0:0:0:0:0:1 /bg-button.png\n",
      "0:0:0:0:0:0:0:1 /bg-middle.png\n",
      "0:0:0:0:0:0:0:1 /bg-upper.png\n",
      "0:0:0:0:0:0:0:1 /favicon.ico\n",
      "0:0:0:0:0:0:0:1 /a.html\n",
      "0:0:0:0:0:0:0:1 /a.html\n",
      "0:0:0:0:0:0:0:1 /favicon.ico\n",
      "0:0:0:0:0:0:0:1 /a.html\n",
      "0:0:0:0:0:0:0:1 /a.html\n",
      "0:0:0:0:0:0:0:1 /b.html\n"
     ]
    }
   ],
   "source": [
    "producer = KafkaProducer( bootstrap_servers=['localhost:9092'], api_version=(0,10) )\n",
    "fp = open(r'C:\\Program Files\\Apache Software Foundation\\Tomcat 9.0\\logs\\localhost_access_log.2021-01-12.txt')\n",
    "while True:\n",
    "    pos = fp.tell()\n",
    "    line = fp.readline()\n",
    "    if line:\n",
    "        ln = line.split()\n",
    "        print(ln[0],ln[6])\n",
    "        ip = ln[0].encode()\n",
    "        doc = ln[6].encode()\n",
    "        producer.send('sample', key=ip, value=doc)\n",
    "        producer.flush()\n",
    "    else:\n",
    "        time.sleep(1)\n",
    "        fp.seek(pos)"
   ]
  }
 ],
 "metadata": {
  "kernelspec": {
   "display_name": "Python 3",
   "language": "python",
   "name": "python3"
  },
  "language_info": {
   "codemirror_mode": {
    "name": "ipython",
    "version": 3
   },
   "file_extension": ".py",
   "mimetype": "text/x-python",
   "name": "python",
   "nbconvert_exporter": "python",
   "pygments_lexer": "ipython3",
   "version": "3.7.6"
  }
 },
 "nbformat": 4,
 "nbformat_minor": 4
}
