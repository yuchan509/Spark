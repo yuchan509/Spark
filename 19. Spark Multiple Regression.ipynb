{
 "cells": [
  {
   "cell_type": "code",
   "execution_count": 1,
   "metadata": {},
   "outputs": [],
   "source": [
    "from pyspark.sql import  SQLContext \n",
    "from pyspark import SparkContext\n",
    "from pyspark.ml.regression import LinearRegression\n",
    "from pyspark.ml.feature import VectorAssembler\n",
    "import matplotlib.pyplot as plt\n",
    "import matplotlib\n",
    "import pandas as pd\n",
    "matplotlib.rcParams['font.family'] = 'Malgun Gothic'\n",
    "matplotlib.rcParams['axes.unicode_minus'] = False"
   ]
  },
  {
   "cell_type": "code",
   "execution_count": 2,
   "metadata": {},
   "outputs": [],
   "source": [
    "sc = SparkContext('local')\n",
    "sqlctx = SQLContext(sc)"
   ]
  },
  {
   "cell_type": "code",
   "execution_count": 6,
   "metadata": {},
   "outputs": [
    {
     "name": "stdout",
     "output_type": "stream",
     "text": [
      "+----+------+------+----------+------+---------+----------+\n",
      "|year|height|weight|     grade|gender|gradecode|gendercode|\n",
      "+----+------+------+----------+------+---------+----------+\n",
      "|2017| 152.5|  47.9|elementary|   man|        2|         1|\n",
      "|2017| 153.2|  46.6|elementary| woman|        2|         0|\n",
      "|2017| 170.6|  63.8|    middle|   man|        0|         1|\n",
      "|2017| 160.4|  54.2|    middle| woman|        0|         0|\n",
      "|2017| 173.9|  72.3|      high|   man|        1|         1|\n",
      "|2017| 160.9|  57.7|      high| woman|        1|         0|\n",
      "+----+------+------+----------+------+---------+----------+\n",
      "\n"
     ]
    }
   ],
   "source": [
    "df = sqlctx.read.csv( 'data1/weight.csv', header=True, inferSchema=True)\n",
    "df.show()"
   ]
  },
  {
   "cell_type": "code",
   "execution_count": 7,
   "metadata": {},
   "outputs": [
    {
     "name": "stdout",
     "output_type": "stream",
     "text": [
      "root\n",
      " |-- year: integer (nullable = true)\n",
      " |-- height: double (nullable = true)\n",
      " |-- weight: double (nullable = true)\n",
      " |-- grade: string (nullable = true)\n",
      " |-- gender: string (nullable = true)\n",
      " |-- gradecode: integer (nullable = true)\n",
      " |-- gendercode: integer (nullable = true)\n",
      "\n"
     ]
    }
   ],
   "source": [
    "df.printSchema()"
   ]
  },
  {
   "cell_type": "code",
   "execution_count": null,
   "metadata": {},
   "outputs": [],
   "source": [
    "# 특성데이터 : 키, gradecode, gendercode   (설명 변수)\n",
    "# 라벨 : weight (종속 변수)"
   ]
  },
  {
   "cell_type": "code",
   "execution_count": 8,
   "metadata": {},
   "outputs": [
    {
     "name": "stdout",
     "output_type": "stream",
     "text": [
      "+----+------+------+----------+------+---------+----------+--------------+\n",
      "|year|height|weight|     grade|gender|gradecode|gendercode|      features|\n",
      "+----+------+------+----------+------+---------+----------+--------------+\n",
      "|2017| 152.5|  47.9|elementary|   man|        2|         1|[47.9,2.0,1.0]|\n",
      "|2017| 153.2|  46.6|elementary| woman|        2|         0|[46.6,2.0,0.0]|\n",
      "|2017| 170.6|  63.8|    middle|   man|        0|         1|[63.8,0.0,1.0]|\n",
      "|2017| 160.4|  54.2|    middle| woman|        0|         0|[54.2,0.0,0.0]|\n",
      "|2017| 173.9|  72.3|      high|   man|        1|         1|[72.3,1.0,1.0]|\n",
      "|2017| 160.9|  57.7|      high| woman|        1|         0|[57.7,1.0,0.0]|\n",
      "+----+------+------+----------+------+---------+----------+--------------+\n",
      "\n"
     ]
    }
   ],
   "source": [
    "f = VectorAssembler(inputCols=['weight', 'gradecode', 'gendercode'], outputCol='features')\n",
    "v_df = f.transform(df)\n",
    "v_df.show(v_df.count())"
   ]
  },
  {
   "cell_type": "code",
   "execution_count": 9,
   "metadata": {},
   "outputs": [
    {
     "name": "stdout",
     "output_type": "stream",
     "text": [
      "+------+--------------+\n",
      "|weight|      features|\n",
      "+------+--------------+\n",
      "|  47.9|[47.9,2.0,1.0]|\n",
      "|  46.6|[46.6,2.0,0.0]|\n",
      "|  63.8|[63.8,0.0,1.0]|\n",
      "|  54.2|[54.2,0.0,0.0]|\n",
      "|  72.3|[72.3,1.0,1.0]|\n",
      "|  57.7|[57.7,1.0,0.0]|\n",
      "+------+--------------+\n",
      "\n"
     ]
    }
   ],
   "source": [
    "v_df = v_df.select('weight', 'features')\n",
    "v_df.show()"
   ]
  },
  {
   "cell_type": "code",
   "execution_count": 10,
   "metadata": {},
   "outputs": [],
   "source": [
    "train_df, test_df = v_df.randomSplit([0.7, 0.3])"
   ]
  },
  {
   "cell_type": "code",
   "execution_count": 11,
   "metadata": {},
   "outputs": [],
   "source": [
    "lr = LinearRegression( featuresCol='features',labelCol='weight', maxIter=100, regParam=0.01)\n",
    "lr_model = lr.fit(train_df)    # 학습 시작"
   ]
  },
  {
   "cell_type": "code",
   "execution_count": 12,
   "metadata": {},
   "outputs": [
    {
     "name": "stdout",
     "output_type": "stream",
     "text": [
      "기울기 [0.6413681937877966,-2.8435745208471777,3.43007030676863]\n",
      "절편 19.44134169292053\n"
     ]
    }
   ],
   "source": [
    "print(\"기울기\", lr_model.coefficients)\n",
    "print('절편', lr_model.intercept)"
   ]
  },
  {
   "cell_type": "code",
   "execution_count": 13,
   "metadata": {},
   "outputs": [],
   "source": [
    "b1, b2, b3 = lr_model.coefficients\n",
    "a = lr_model.intercept\n",
    "p = a + b1*170 + b2*2+ b3*1\n",
    "p"
   ]
  }
 ],
 "metadata": {
  "kernelspec": {
   "display_name": "Python 3",
   "language": "python",
   "name": "python3"
  },
  "language_info": {
   "codemirror_mode": {
    "name": "ipython",
    "version": 3
   },
   "file_extension": ".py",
   "mimetype": "text/x-python",
   "name": "python",
   "nbconvert_exporter": "python",
   "pygments_lexer": "ipython3",
   "version": "3.7.6"
  }
 },
 "nbformat": 4,
 "nbformat_minor": 4
}
