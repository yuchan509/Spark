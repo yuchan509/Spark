{
 "cells": [
  {
   "cell_type": "code",
   "execution_count": 1,
   "metadata": {},
   "outputs": [],
   "source": [
    "from pyspark import SparkContext"
   ]
  },
  {
   "cell_type": "code",
   "execution_count": 2,
   "metadata": {},
   "outputs": [],
   "source": [
    "sc = SparkContext('local')\n",
    "\n",
    "empList = ['1,kim,000-000-000','2,lee,111-111-111',\n",
    "           '3,park,222-222-222','4,song,333-333-333',\n",
    "           '5,han,555-555-555','6,yoon,666-666-666']\n",
    "\n",
    "deptList = ['1,sale','2,developer','3,manager',\n",
    "            '4,sale1','5,developer1','6,manager1']\n",
    "\n",
    "# RDD로 반환.\n",
    "empRdd  = sc.parallelize(empList)\n",
    "deptRdd = sc.parallelize(deptList)"
   ]
  },
  {
   "cell_type": "code",
   "execution_count": 3,
   "metadata": {},
   "outputs": [
    {
     "data": {
      "text/plain": [
       "['1,kim,000-000-000',\n",
       " '2,lee,111-111-111',\n",
       " '3,park,222-222-222',\n",
       " '4,song,333-333-333',\n",
       " '5,han,555-555-555',\n",
       " '6,yoon,666-666-666']"
      ]
     },
     "execution_count": 3,
     "metadata": {},
     "output_type": "execute_result"
    }
   ],
   "source": [
    "empRdd.collect()"
   ]
  },
  {
   "cell_type": "code",
   "execution_count": 4,
   "metadata": {},
   "outputs": [
    {
     "data": {
      "text/plain": [
       "['1,sale', '2,developer', '3,manager', '4,sale1', '5,developer1', '6,manager1']"
      ]
     },
     "execution_count": 4,
     "metadata": {},
     "output_type": "execute_result"
    }
   ],
   "source": [
    "deptRdd.collect()"
   ]
  },
  {
   "cell_type": "code",
   "execution_count": 5,
   "metadata": {},
   "outputs": [
    {
     "data": {
      "text/plain": [
       "[['1', 'kim', '000-000-000'],\n",
       " ['2', 'lee', '111-111-111'],\n",
       " ['3', 'park', '222-222-222'],\n",
       " ['4', 'song', '333-333-333'],\n",
       " ['5', 'han', '555-555-555'],\n",
       " ['6', 'yoon', '666-666-666']]"
      ]
     },
     "execution_count": 5,
     "metadata": {},
     "output_type": "execute_result"
    }
   ],
   "source": [
    "empRdd1 = empRdd.map(lambda x : x.split(','))\n",
    "empRdd1.collect()"
   ]
  },
  {
   "cell_type": "code",
   "execution_count": 6,
   "metadata": {},
   "outputs": [
    {
     "data": {
      "text/plain": [
       "[('1', 'kim000-000-000'),\n",
       " ('2', 'lee111-111-111'),\n",
       " ('3', 'park222-222-222'),\n",
       " ('4', 'song333-333-333'),\n",
       " ('5', 'han555-555-555'),\n",
       " ('6', 'yoon666-666-666')]"
      ]
     },
     "execution_count": 6,
     "metadata": {},
     "output_type": "execute_result"
    }
   ],
   "source": [
    "empRdd2 = empRdd1.map(lambda x : (x[0], x[1] + '' + x[2]))\n",
    "empRdd2.collect()"
   ]
  },
  {
   "cell_type": "code",
   "execution_count": 7,
   "metadata": {},
   "outputs": [
    {
     "data": {
      "text/plain": [
       "[('1', 'sale'),\n",
       " ('2', 'developer'),\n",
       " ('3', 'manager'),\n",
       " ('4', 'sale1'),\n",
       " ('5', 'developer1'),\n",
       " ('6', 'manager1')]"
      ]
     },
     "execution_count": 7,
     "metadata": {},
     "output_type": "execute_result"
    }
   ],
   "source": [
    "deptRdd1 = deptRdd.map(lambda x : x.split(',')).map(lambda x : (x[0], x[1]))\n",
    "deptRdd1.collect()"
   ]
  },
  {
   "cell_type": "code",
   "execution_count": 8,
   "metadata": {},
   "outputs": [
    {
     "data": {
      "text/plain": [
       "[('1', ('kim000-000-000', 'sale')),\n",
       " ('4', ('song333-333-333', 'sale1')),\n",
       " ('2', ('lee111-111-111', 'developer')),\n",
       " ('3', ('park222-222-222', 'manager')),\n",
       " ('5', ('han555-555-555', 'developer1')),\n",
       " ('6', ('yoon666-666-666', 'manager1'))]"
      ]
     },
     "execution_count": 8,
     "metadata": {},
     "output_type": "execute_result"
    }
   ],
   "source": [
    "# join() : 데이터 결합.\n",
    "joinData = empRdd2.join(deptRdd1)\n",
    "joinData.collect()"
   ]
  },
  {
   "cell_type": "code",
   "execution_count": 9,
   "metadata": {},
   "outputs": [
    {
     "data": {
      "text/plain": [
       "[('1', ('kim000-000-000', 'sale')),\n",
       " ('2', ('lee111-111-111', 'developer')),\n",
       " ('3', ('park222-222-222', 'manager')),\n",
       " ('4', ('song333-333-333', 'sale1')),\n",
       " ('5', ('han555-555-555', 'developer1')),\n",
       " ('6', ('yoon666-666-666', 'manager1'))]"
      ]
     },
     "execution_count": 9,
     "metadata": {},
     "output_type": "execute_result"
    }
   ],
   "source": [
    "sorRdd = joinData.sortByKey()\n",
    "sorRdd.collect()"
   ]
  },
  {
   "cell_type": "code",
   "execution_count": 10,
   "metadata": {},
   "outputs": [
    {
     "data": {
      "text/plain": [
       "[('1', ('kim000-000-000', 'sale')), ('2', ('lee111-111-111', 'developer'))]"
      ]
     },
     "execution_count": 10,
     "metadata": {},
     "output_type": "execute_result"
    }
   ],
   "source": [
    "sorRdd.take(2)"
   ]
  },
  {
   "cell_type": "code",
   "execution_count": 11,
   "metadata": {},
   "outputs": [
    {
     "data": {
      "text/plain": [
       "('1', ('kim000-000-000', 'sale'))"
      ]
     },
     "execution_count": 11,
     "metadata": {},
     "output_type": "execute_result"
    }
   ],
   "source": [
    "sorRdd.first()"
   ]
  },
  {
   "cell_type": "code",
   "execution_count": 12,
   "metadata": {},
   "outputs": [
    {
     "data": {
      "text/plain": [
       "defaultdict(int, {'1': 1, '2': 1, '3': 1, '4': 1, '5': 1, '6': 1})"
      ]
     },
     "execution_count": 12,
     "metadata": {},
     "output_type": "execute_result"
    }
   ],
   "source": [
    "sorRdd.countByKey()"
   ]
  },
  {
   "cell_type": "code",
   "execution_count": 13,
   "metadata": {},
   "outputs": [
    {
     "data": {
      "text/plain": [
       "['year,height,weight,grade,gender,gradecode,gendercode',\n",
       " '2017,152.5,47.9,elementary,man,2,1',\n",
       " '2017,153.2,46.6,elementary,woman,2,0',\n",
       " '2017,170.6,63.8,middle,man,0,1',\n",
       " '2017,160.4,54.2,middle,woman,0,0',\n",
       " '2017,173.9,72.3,high,man,1,1',\n",
       " '2017,160.9,57.7,high,woman,1,0']"
      ]
     },
     "execution_count": 13,
     "metadata": {},
     "output_type": "execute_result"
    }
   ],
   "source": [
    "weightRdd = sc.textFile('data1/weight.csv')\n",
    "weightRdd.collect()"
   ]
  },
  {
   "cell_type": "code",
   "execution_count": 14,
   "metadata": {},
   "outputs": [
    {
     "data": {
      "text/plain": [
       "[['2017', '152.5', '47.9', 'elementary', 'man', '2', '1'],\n",
       " ['2017', '153.2', '46.6', 'elementary', 'woman', '2', '0'],\n",
       " ['2017', '170.6', '63.8', 'middle', 'man', '0', '1'],\n",
       " ['2017', '160.4', '54.2', 'middle', 'woman', '0', '0'],\n",
       " ['2017', '173.9', '72.3', 'high', 'man', '1', '1'],\n",
       " ['2017', '160.9', '57.7', 'high', 'woman', '1', '0']]"
      ]
     },
     "execution_count": 14,
     "metadata": {},
     "output_type": "execute_result"
    }
   ],
   "source": [
    "wRdd = weightRdd.map(lambda x : x.split(',')).filter( lambda x : x[0]=='2017')\n",
    "wRdd.collect()"
   ]
  },
  {
   "cell_type": "code",
   "execution_count": 15,
   "metadata": {},
   "outputs": [
    {
     "data": {
      "text/plain": [
       "971.5"
      ]
     },
     "execution_count": 15,
     "metadata": {},
     "output_type": "execute_result"
    }
   ],
   "source": [
    "round(wRdd.map(lambda x : float(x[1])).sum(), 2)"
   ]
  },
  {
   "cell_type": "code",
   "execution_count": 16,
   "metadata": {},
   "outputs": [
    {
     "data": {
      "text/plain": [
       "161.92"
      ]
     },
     "execution_count": 16,
     "metadata": {},
     "output_type": "execute_result"
    }
   ],
   "source": [
    "round(wRdd.map(lambda x : float(x[1])).mean(), 2)"
   ]
  },
  {
   "cell_type": "code",
   "execution_count": 17,
   "metadata": {},
   "outputs": [
    {
     "data": {
      "text/plain": [
       "[('elementary', 2), ('middle', 2), ('high', 2)]"
      ]
     },
     "execution_count": 17,
     "metadata": {},
     "output_type": "execute_result"
    }
   ],
   "source": [
    "wRdd.map(lambda x :( x[3], 1)).reduceByKey(lambda x,y : x + y).collect()"
   ]
  },
  {
   "cell_type": "code",
   "execution_count": 18,
   "metadata": {},
   "outputs": [
    {
     "data": {
      "text/plain": [
       "[['2017', '173.9', '72.3', 'high', 'man', '1', '1'],\n",
       " ['2017', '170.6', '63.8', 'middle', 'man', '0', '1'],\n",
       " ['2017', '160.9', '57.7', 'high', 'woman', '1', '0'],\n",
       " ['2017', '160.4', '54.2', 'middle', 'woman', '0', '0'],\n",
       " ['2017', '152.5', '47.9', 'elementary', 'man', '2', '1'],\n",
       " ['2017', '153.2', '46.6', 'elementary', 'woman', '2', '0']]"
      ]
     },
     "execution_count": 18,
     "metadata": {},
     "output_type": "execute_result"
    }
   ],
   "source": [
    "wRdd.sortBy(lambda x : x[2], ascending=False).collect()"
   ]
  },
  {
   "cell_type": "code",
   "execution_count": 19,
   "metadata": {},
   "outputs": [
    {
     "data": {
      "text/plain": [
       "[['2017', '152.5', '47.9', 'elementary', 'man', '2', '1'],\n",
       " ['2017', '153.2', '46.6', 'elementary', 'woman', '2', '0']]"
      ]
     },
     "execution_count": 19,
     "metadata": {},
     "output_type": "execute_result"
    }
   ],
   "source": [
    "# Transform 함수. => filter() : 주어진 조건에 해당하는 데이터만 선별. \n",
    "wRdd.filter(lambda x : x[3]=='elementary').collect()"
   ]
  },
  {
   "cell_type": "code",
   "execution_count": 20,
   "metadata": {},
   "outputs": [
    {
     "data": {
      "text/plain": [
       "[['2017', '170.6', '63.8', 'middle', 'man', '0', '1'],\n",
       " ['2017', '173.9', '72.3', 'high', 'man', '1', '1']]"
      ]
     },
     "execution_count": 20,
     "metadata": {},
     "output_type": "execute_result"
    }
   ],
   "source": [
    "# Transform 함수. => filter() : 주어진 조건에 해당하는 데이터만 선별. \n",
    "wRdd.filter(lambda x : float(x[2]) >= 60 ).collect()"
   ]
  },
  {
   "cell_type": "code",
   "execution_count": 21,
   "metadata": {},
   "outputs": [],
   "source": [
    "sc.stop()"
   ]
  }
 ],
 "metadata": {
  "kernelspec": {
   "display_name": "Python 3",
   "language": "python",
   "name": "python3"
  },
  "language_info": {
   "codemirror_mode": {
    "name": "ipython",
    "version": 3
   },
   "file_extension": ".py",
   "mimetype": "text/x-python",
   "name": "python",
   "nbconvert_exporter": "python",
   "pygments_lexer": "ipython3",
   "version": "3.7.6"
  }
 },
 "nbformat": 4,
 "nbformat_minor": 4
}
