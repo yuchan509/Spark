{
 "cells": [
  {
   "cell_type": "code",
   "execution_count": 1,
   "metadata": {},
   "outputs": [],
   "source": [
    "from pyspark import SparkContext\n",
    "from pyspark.sql import SQLContext, Row\n",
    "import pandas as pd\n",
    "import numpy as np\n",
    "\n",
    "from pyspark.sql.functions import when, udf, col, regexp_replace\n",
    "from pyspark.sql.types import DoubleType,IntegerType, StringType "
   ]
  },
  {
   "cell_type": "code",
   "execution_count": 2,
   "metadata": {},
   "outputs": [],
   "source": [
    "sc = SparkContext( 'local' )  # spark://ip7070\n",
    "sqlCtx = SQLContext( sc )"
   ]
  },
  {
   "cell_type": "code",
   "execution_count": 3,
   "metadata": {},
   "outputs": [
    {
     "data": {
      "text/plain": [
       "DataFrame[_c0: int, _c1: double, _c2: double]"
      ]
     },
     "execution_count": 3,
     "metadata": {},
     "output_type": "execute_result"
    }
   ],
   "source": [
    "df = sqlCtx.read.csv('data/births.txt',inferSchema=True)\n",
    "df"
   ]
  },
  {
   "cell_type": "code",
   "execution_count": 4,
   "metadata": {},
   "outputs": [],
   "source": [
    "df = df.withColumnRenamed('_c0','year').\\\n",
    "        withColumnRenamed('_c1','boys').\\\n",
    "        withColumnRenamed('_c2','girls')"
   ]
  },
  {
   "cell_type": "code",
   "execution_count": 5,
   "metadata": {},
   "outputs": [
    {
     "name": "stdout",
     "output_type": "stream",
     "text": [
      "root\n",
      " |-- year: integer (nullable = true)\n",
      " |-- boys: double (nullable = true)\n",
      " |-- girls: double (nullable = true)\n",
      "\n"
     ]
    }
   ],
   "source": [
    "df.printSchema()"
   ]
  },
  {
   "cell_type": "code",
   "execution_count": 6,
   "metadata": {},
   "outputs": [
    {
     "name": "stdout",
     "output_type": "stream",
     "text": [
      "+----+---------+---------+\n",
      "|year|     boys|    girls|\n",
      "+----+---------+---------+\n",
      "|1880|  90993.0| 110491.0|\n",
      "|1881|  91954.0| 100745.0|\n",
      "|1882| 107850.0| 113688.0|\n",
      "|1883| 112321.0| 104629.0|\n",
      "|1884| 129022.0| 114445.0|\n",
      "|1885| 133055.0| 107800.0|\n",
      "|1886| 144535.0| 110784.0|\n",
      "|1887| 145982.0| 101414.0|\n",
      "|1888| 178627.0| 120853.0|\n",
      "|1889| 178366.0| 110584.0|\n",
      "|1890| 190377.0| 111025.0|\n",
      "|1891| 185482.0| 101196.0|\n",
      "|1892| 212346.0| 122037.0|\n",
      "|1893| 212906.0| 112317.0|\n",
      "|1894| 222922.0| 115772.0|\n",
      "|1895| 233630.0| 117398.0|\n",
      "|1896| 237920.0| 119570.0|\n",
      "|1897| 234202.0| 112758.0|\n",
      "|1898| 258770.0| 122693.0|\n",
      "|1899| 233023.0| 106212.0|\n",
      "|1900| 299828.0| 150499.0|\n",
      "|1901| 239348.0| 106471.0|\n",
      "|1902| 264077.0| 122659.0|\n",
      "|1903| 261973.0| 119234.0|\n",
      "|1904| 275371.0| 128125.0|\n",
      "|1905| 291629.0| 132319.0|\n",
      "|1906| 295303.0| 133159.0|\n",
      "|1907| 318566.0| 146833.0|\n",
      "|1908| 334313.0| 154344.0|\n",
      "|1909| 347228.0| 163999.0|\n",
      "|1910| 396501.0| 194218.0|\n",
      "|1911| 418299.0| 225968.0|\n",
      "|1912| 558103.0| 429945.0|\n",
      "|1913| 624518.0| 512557.0|\n",
      "|1914| 761548.0| 654762.0|\n",
      "|1915| 983874.0| 848603.0|\n",
      "|1916|1044323.0| 890099.0|\n",
      "|1917|1081280.0| 925511.0|\n",
      "|1918|1157647.0|1013537.0|\n",
      "|1919|1130145.0| 980149.0|\n",
      "|1920|1198283.0|1064463.0|\n",
      "|1921|1232999.0|1101457.0|\n",
      "|1922|1200919.0|1088287.0|\n",
      "|1923|1206330.0|1096168.0|\n",
      "|1924|1248876.0|1132751.0|\n",
      "|1925|1217352.0|1115958.0|\n",
      "|1926|1185304.0|1110505.0|\n",
      "|1927|1192330.0|1126717.0|\n",
      "|1928|1153117.0|1107518.0|\n",
      "|1929|1116422.0|1075313.0|\n",
      "|1930|1125761.0|1097176.0|\n",
      "|1931|1064497.0|1039127.0|\n",
      "|1932|1066994.0|1043808.0|\n",
      "|1933|1007710.0| 991127.0|\n",
      "|1934|1044039.0|1032291.0|\n",
      "|1935|1048428.0|1040930.0|\n",
      "|1936|1040202.0|1036974.0|\n",
      "|1937|1063872.0|1066309.0|\n",
      "|1938|1103277.0|1108841.0|\n",
      "|1939|1096518.0|1106544.0|\n",
      "|1940|1143325.0|1158900.0|\n",
      "|1941|1207919.0|1227941.0|\n",
      "|1942|1350545.0|1380774.0|\n",
      "|1943|1395082.0|1426846.0|\n",
      "|1944|1327104.0|1362555.0|\n",
      "|1945|1307028.0|1345610.0|\n",
      "|1946|1571184.0|1623650.0|\n",
      "|1947|1772644.0|1829223.0|\n",
      "|1948|1697814.0|1754469.0|\n",
      "|1949|1710825.0|1773725.0|\n",
      "|1950|1713180.0|1790673.0|\n",
      "|1951|1800042.0|1881080.0|\n",
      "|1952|1854698.0|1944277.0|\n",
      "|1953|1880326.0|1969777.0|\n",
      "|1954|1941682.0|2037374.0|\n",
      "|1955|1954664.0|2057918.0|\n",
      "|1956|2007512.0|2113694.0|\n",
      "|1957|2044160.0|2155866.0|\n",
      "|1958|2010884.0|2120712.0|\n",
      "|1959|2023044.0|2133509.0|\n",
      "|1960|2022093.0|2132717.0|\n",
      "|1961|2017316.0|2122502.0|\n",
      "|1962|1966548.0|2068945.0|\n",
      "|1963|1927217.0|2031755.0|\n",
      "|1964|1894594.0|1993270.0|\n",
      "|1965|1765001.0|1861378.0|\n",
      "|1966|1691868.0|1783964.0|\n",
      "|1967|1650764.0|1744527.0|\n",
      "|1968|1640103.0|1738928.0|\n",
      "|1969|1686947.0|1789732.0|\n",
      "|1970|1748147.0|1859594.0|\n",
      "|1971|1663475.0|1769201.0|\n",
      "|1972|1521185.0|1622666.0|\n",
      "|1973|1458139.0|1559338.0|\n",
      "|1974|1467413.0|1573105.0|\n",
      "|1975|1457699.0|1562207.0|\n",
      "|1976|1465096.0|1569904.0|\n",
      "|1977|1532997.0|1643684.0|\n",
      "|1978|1531658.0|1642250.0|\n",
      "|1979|1605051.0|1721947.0|\n",
      "|1980|1659933.0|1783876.0|\n",
      "|1981|1667465.0|1790907.0|\n",
      "|1982|1692678.0|1813970.0|\n",
      "|1983|1670061.0|1791732.0|\n",
      "|1984|1682973.0|1803830.0|\n",
      "|1985|1720036.0|1847032.0|\n",
      "|1986|1714664.0|1840164.0|\n",
      "|1987|1737891.0|1865662.0|\n",
      "|1988|1779839.0|1912602.0|\n",
      "|1989|1843105.0|1999999.0|\n",
      "|1990|1897709.0|2052543.0|\n",
      "|1991|1874434.0|2019463.0|\n",
      "|1992|1843304.0|1996388.0|\n",
      "|1993|1808379.0|1960397.0|\n",
      "|1994|1785074.0|1931157.0|\n",
      "|1995|1757927.0|1902832.0|\n",
      "|1996|1752249.0|1893378.0|\n",
      "|1997|1739806.0|1884122.0|\n",
      "|1998|1765915.0|1910250.0|\n",
      "|1999|1772632.0|1918809.0|\n",
      "|2000|1814601.0|1962406.0|\n",
      "|2001|1799049.0|1941251.0|\n",
      "|2002|1795206.0|1939815.0|\n",
      "|2003|1825359.0|1973434.0|\n",
      "|2004|1834145.0|1982794.0|\n",
      "|2005|1845379.0|1994841.0|\n",
      "|2006|1898463.0|2052377.0|\n",
      "|2007|1919408.0|2072139.0|\n",
      "|2008|1887234.0|2036289.0|\n",
      "|2009|1832925.0|1979303.0|\n",
      "|2010|1772738.0|1913851.0|\n",
      "|2011|1753500.0|1893230.0|\n",
      "+----+---------+---------+\n",
      "\n"
     ]
    }
   ],
   "source": [
    "df.show(df.count())"
   ]
  },
  {
   "cell_type": "markdown",
   "metadata": {},
   "source": [
    "1. 2000년도 이후 데이터를 구하시오."
   ]
  },
  {
   "cell_type": "code",
   "execution_count": 7,
   "metadata": {},
   "outputs": [
    {
     "name": "stdout",
     "output_type": "stream",
     "text": [
      "+----+---------+---------+\n",
      "|year|     boys|    girls|\n",
      "+----+---------+---------+\n",
      "|2000|1814601.0|1962406.0|\n",
      "|2001|1799049.0|1941251.0|\n",
      "|2002|1795206.0|1939815.0|\n",
      "|2003|1825359.0|1973434.0|\n",
      "|2004|1834145.0|1982794.0|\n",
      "|2005|1845379.0|1994841.0|\n",
      "|2006|1898463.0|2052377.0|\n",
      "|2007|1919408.0|2072139.0|\n",
      "|2008|1887234.0|2036289.0|\n",
      "|2009|1832925.0|1979303.0|\n",
      "|2010|1772738.0|1913851.0|\n",
      "|2011|1753500.0|1893230.0|\n",
      "+----+---------+---------+\n",
      "\n"
     ]
    }
   ],
   "source": [
    "df.where('year>=2000').show()"
   ]
  },
  {
   "cell_type": "markdown",
   "metadata": {},
   "source": [
    "2. 1995 ~ 2000 년도 데이터를 구하시오"
   ]
  },
  {
   "cell_type": "code",
   "execution_count": 8,
   "metadata": {},
   "outputs": [
    {
     "name": "stdout",
     "output_type": "stream",
     "text": [
      "+----+---------+---------+\n",
      "|year|     boys|    girls|\n",
      "+----+---------+---------+\n",
      "|1995|1757927.0|1902832.0|\n",
      "|1996|1752249.0|1893378.0|\n",
      "|1997|1739806.0|1884122.0|\n",
      "|1998|1765915.0|1910250.0|\n",
      "|1999|1772632.0|1918809.0|\n",
      "|2000|1814601.0|1962406.0|\n",
      "+----+---------+---------+\n",
      "\n"
     ]
    }
   ],
   "source": [
    "df.where(\" year between 1995 and 2000 \").show()"
   ]
  },
  {
   "cell_type": "markdown",
   "metadata": {},
   "source": [
    "3. 남아 출생이 가장 많은 top5를 구하시오. ( 년도, 남아수 출력)"
   ]
  },
  {
   "cell_type": "code",
   "execution_count": 9,
   "metadata": {},
   "outputs": [
    {
     "name": "stdout",
     "output_type": "stream",
     "text": [
      "+----+---------+\n",
      "|year|     boys|\n",
      "+----+---------+\n",
      "|1957|2044160.0|\n",
      "|1959|2023044.0|\n",
      "|1960|2022093.0|\n",
      "|1961|2017316.0|\n",
      "|1958|2010884.0|\n",
      "+----+---------+\n",
      "only showing top 5 rows\n",
      "\n"
     ]
    }
   ],
   "source": [
    "df.select('year', 'boys').orderBy('boys', ascending=False).show(5)"
   ]
  },
  {
   "cell_type": "markdown",
   "metadata": {},
   "source": [
    "4. 남아율(%) 컬럼을 추가하고, 각 년도별 남아수가 차지하는 비율을 보여주시오."
   ]
  },
  {
   "cell_type": "code",
   "execution_count": 10,
   "metadata": {},
   "outputs": [
    {
     "data": {
      "text/html": [
       "<div>\n",
       "<style scoped>\n",
       "    .dataframe tbody tr th:only-of-type {\n",
       "        vertical-align: middle;\n",
       "    }\n",
       "\n",
       "    .dataframe tbody tr th {\n",
       "        vertical-align: top;\n",
       "    }\n",
       "\n",
       "    .dataframe thead th {\n",
       "        text-align: right;\n",
       "    }\n",
       "</style>\n",
       "<table border=\"1\" class=\"dataframe\">\n",
       "  <thead>\n",
       "    <tr style=\"text-align: right;\">\n",
       "      <th></th>\n",
       "      <th>year</th>\n",
       "      <th>boys</th>\n",
       "      <th>girls</th>\n",
       "      <th>남아율(%)</th>\n",
       "    </tr>\n",
       "  </thead>\n",
       "  <tbody>\n",
       "    <tr>\n",
       "      <th>0</th>\n",
       "      <td>1880</td>\n",
       "      <td>90993.0</td>\n",
       "      <td>110491.0</td>\n",
       "      <td>45.161402</td>\n",
       "    </tr>\n",
       "    <tr>\n",
       "      <th>1</th>\n",
       "      <td>1881</td>\n",
       "      <td>91954.0</td>\n",
       "      <td>100745.0</td>\n",
       "      <td>47.718981</td>\n",
       "    </tr>\n",
       "    <tr>\n",
       "      <th>2</th>\n",
       "      <td>1882</td>\n",
       "      <td>107850.0</td>\n",
       "      <td>113688.0</td>\n",
       "      <td>48.682393</td>\n",
       "    </tr>\n",
       "    <tr>\n",
       "      <th>3</th>\n",
       "      <td>1883</td>\n",
       "      <td>112321.0</td>\n",
       "      <td>104629.0</td>\n",
       "      <td>51.772759</td>\n",
       "    </tr>\n",
       "    <tr>\n",
       "      <th>4</th>\n",
       "      <td>1884</td>\n",
       "      <td>129022.0</td>\n",
       "      <td>114445.0</td>\n",
       "      <td>52.993630</td>\n",
       "    </tr>\n",
       "    <tr>\n",
       "      <th>...</th>\n",
       "      <td>...</td>\n",
       "      <td>...</td>\n",
       "      <td>...</td>\n",
       "      <td>...</td>\n",
       "    </tr>\n",
       "    <tr>\n",
       "      <th>127</th>\n",
       "      <td>2007</td>\n",
       "      <td>1919408.0</td>\n",
       "      <td>2072139.0</td>\n",
       "      <td>48.086819</td>\n",
       "    </tr>\n",
       "    <tr>\n",
       "      <th>128</th>\n",
       "      <td>2008</td>\n",
       "      <td>1887234.0</td>\n",
       "      <td>2036289.0</td>\n",
       "      <td>48.100495</td>\n",
       "    </tr>\n",
       "    <tr>\n",
       "      <th>129</th>\n",
       "      <td>2009</td>\n",
       "      <td>1832925.0</td>\n",
       "      <td>1979303.0</td>\n",
       "      <td>48.080152</td>\n",
       "    </tr>\n",
       "    <tr>\n",
       "      <th>130</th>\n",
       "      <td>2010</td>\n",
       "      <td>1772738.0</td>\n",
       "      <td>1913851.0</td>\n",
       "      <td>48.086131</td>\n",
       "    </tr>\n",
       "    <tr>\n",
       "      <th>131</th>\n",
       "      <td>2011</td>\n",
       "      <td>1753500.0</td>\n",
       "      <td>1893230.0</td>\n",
       "      <td>48.084174</td>\n",
       "    </tr>\n",
       "  </tbody>\n",
       "</table>\n",
       "<p>132 rows × 4 columns</p>\n",
       "</div>"
      ],
      "text/plain": [
       "     year       boys      girls     남아율(%)\n",
       "0    1880    90993.0   110491.0  45.161402\n",
       "1    1881    91954.0   100745.0  47.718981\n",
       "2    1882   107850.0   113688.0  48.682393\n",
       "3    1883   112321.0   104629.0  51.772759\n",
       "4    1884   129022.0   114445.0  52.993630\n",
       "..    ...        ...        ...        ...\n",
       "127  2007  1919408.0  2072139.0  48.086819\n",
       "128  2008  1887234.0  2036289.0  48.100495\n",
       "129  2009  1832925.0  1979303.0  48.080152\n",
       "130  2010  1772738.0  1913851.0  48.086131\n",
       "131  2011  1753500.0  1893230.0  48.084174\n",
       "\n",
       "[132 rows x 4 columns]"
      ]
     },
     "execution_count": 10,
     "metadata": {},
     "output_type": "execute_result"
    }
   ],
   "source": [
    "df.withColumn('남아율(%)', df['boys']/(df['boys']+df['girls'])*100).toPandas()"
   ]
  },
  {
   "cell_type": "markdown",
   "metadata": {},
   "source": [
    "5. 2000년도 이후 데이터를 바차트로 보여주시오."
   ]
  },
  {
   "cell_type": "code",
   "execution_count": 11,
   "metadata": {},
   "outputs": [],
   "source": [
    "import matplotlib.pyplot as plt"
   ]
  },
  {
   "cell_type": "code",
   "execution_count": 12,
   "metadata": {},
   "outputs": [
    {
     "data": {
      "image/png": "[encoded data removed]",
      "text/plain": [
       "<Figure size 432x288 with 1 Axes>"
      ]
     },
     "metadata": {
      "needs_background": "light"
     },
     "output_type": "display_data"
    }
   ],
   "source": [
    "data = df.where('year>=2000').toPandas()\n",
    "data = data.set_index('year')\n",
    "data.plot(kind='bar', alpha=0.5)\n",
    "plt.grid()\n",
    "plt.show()"
   ]
  },
  {
   "cell_type": "code",
   "execution_count": 13,
   "metadata": {},
   "outputs": [],
   "source": [
    "import pyspark.sql.functions as F"
   ]
  },
  {
   "cell_type": "code",
   "execution_count": 14,
   "metadata": {},
   "outputs": [
    {
     "data": {
      "text/plain": [
       "[Row(year=1880, boys=90993.0, girls=110491.0),\n",
       " Row(year=1881, boys=91954.0, girls=100745.0),\n",
       " Row(year=1882, boys=107850.0, girls=113688.0),\n",
       " Row(year=1883, boys=112321.0, girls=104629.0),\n",
       " Row(year=1884, boys=129022.0, girls=114445.0),\n",
       " Row(year=1885, boys=133055.0, girls=107800.0),\n",
       " Row(year=1886, boys=144535.0, girls=110784.0),\n",
       " Row(year=1887, boys=145982.0, girls=101414.0),\n",
       " Row(year=1888, boys=178627.0, girls=120853.0),\n",
       " Row(year=1889, boys=178366.0, girls=110584.0),\n",
       " Row(year=1890, boys=190377.0, girls=111025.0),\n",
       " Row(year=1891, boys=185482.0, girls=101196.0),\n",
       " Row(year=1892, boys=212346.0, girls=122037.0),\n",
       " Row(year=1893, boys=212906.0, girls=112317.0),\n",
       " Row(year=1894, boys=222922.0, girls=115772.0),\n",
       " Row(year=1895, boys=233630.0, girls=117398.0),\n",
       " Row(year=1896, boys=237920.0, girls=119570.0),\n",
       " Row(year=1897, boys=234202.0, girls=112758.0),\n",
       " Row(year=1898, boys=258770.0, girls=122693.0),\n",
       " Row(year=1899, boys=233023.0, girls=106212.0),\n",
       " Row(year=1900, boys=299828.0, girls=150499.0),\n",
       " Row(year=1901, boys=239348.0, girls=106471.0),\n",
       " Row(year=1902, boys=264077.0, girls=122659.0),\n",
       " Row(year=1903, boys=261973.0, girls=119234.0),\n",
       " Row(year=1904, boys=275371.0, girls=128125.0),\n",
       " Row(year=1905, boys=291629.0, girls=132319.0),\n",
       " Row(year=1906, boys=295303.0, girls=133159.0),\n",
       " Row(year=1907, boys=318566.0, girls=146833.0),\n",
       " Row(year=1908, boys=334313.0, girls=154344.0),\n",
       " Row(year=1909, boys=347228.0, girls=163999.0),\n",
       " Row(year=1910, boys=396501.0, girls=194218.0),\n",
       " Row(year=1911, boys=418299.0, girls=225968.0),\n",
       " Row(year=1912, boys=558103.0, girls=429945.0),\n",
       " Row(year=1913, boys=624518.0, girls=512557.0),\n",
       " Row(year=1914, boys=761548.0, girls=654762.0),\n",
       " Row(year=1915, boys=983874.0, girls=848603.0),\n",
       " Row(year=1916, boys=1044323.0, girls=890099.0),\n",
       " Row(year=1917, boys=1081280.0, girls=925511.0),\n",
       " Row(year=1918, boys=1157647.0, girls=1013537.0),\n",
       " Row(year=1919, boys=1130145.0, girls=980149.0),\n",
       " Row(year=1920, boys=1198283.0, girls=1064463.0),\n",
       " Row(year=1921, boys=1232999.0, girls=1101457.0),\n",
       " Row(year=1922, boys=1200919.0, girls=1088287.0),\n",
       " Row(year=1923, boys=1206330.0, girls=1096168.0),\n",
       " Row(year=1924, boys=1248876.0, girls=1132751.0),\n",
       " Row(year=1925, boys=1217352.0, girls=1115958.0),\n",
       " Row(year=1926, boys=1185304.0, girls=1110505.0),\n",
       " Row(year=1927, boys=1192330.0, girls=1126717.0),\n",
       " Row(year=1928, boys=1153117.0, girls=1107518.0),\n",
       " Row(year=1929, boys=1116422.0, girls=1075313.0),\n",
       " Row(year=1930, boys=1125761.0, girls=1097176.0),\n",
       " Row(year=1931, boys=1064497.0, girls=1039127.0),\n",
       " Row(year=1932, boys=1066994.0, girls=1043808.0),\n",
       " Row(year=1933, boys=1007710.0, girls=991127.0),\n",
       " Row(year=1934, boys=1044039.0, girls=1032291.0),\n",
       " Row(year=1935, boys=1048428.0, girls=1040930.0),\n",
       " Row(year=1936, boys=1040202.0, girls=1036974.0),\n",
       " Row(year=1937, boys=1063872.0, girls=1066309.0),\n",
       " Row(year=1938, boys=1103277.0, girls=1108841.0),\n",
       " Row(year=1939, boys=1096518.0, girls=1106544.0),\n",
       " Row(year=1940, boys=1143325.0, girls=1158900.0),\n",
       " Row(year=1941, boys=1207919.0, girls=1227941.0),\n",
       " Row(year=1942, boys=1350545.0, girls=1380774.0),\n",
       " Row(year=1943, boys=1395082.0, girls=1426846.0),\n",
       " Row(year=1944, boys=1327104.0, girls=1362555.0),\n",
       " Row(year=1945, boys=1307028.0, girls=1345610.0),\n",
       " Row(year=1946, boys=1571184.0, girls=1623650.0),\n",
       " Row(year=1947, boys=1772644.0, girls=1829223.0),\n",
       " Row(year=1948, boys=1697814.0, girls=1754469.0),\n",
       " Row(year=1949, boys=1710825.0, girls=1773725.0),\n",
       " Row(year=1950, boys=1713180.0, girls=1790673.0),\n",
       " Row(year=1951, boys=1800042.0, girls=1881080.0),\n",
       " Row(year=1952, boys=1854698.0, girls=1944277.0),\n",
       " Row(year=1953, boys=1880326.0, girls=1969777.0),\n",
       " Row(year=1954, boys=1941682.0, girls=2037374.0),\n",
       " Row(year=1955, boys=1954664.0, girls=2057918.0),\n",
       " Row(year=1956, boys=2007512.0, girls=2113694.0),\n",
       " Row(year=1957, boys=2044160.0, girls=2155866.0),\n",
       " Row(year=1958, boys=2010884.0, girls=2120712.0),\n",
       " Row(year=1959, boys=2023044.0, girls=2133509.0),\n",
       " Row(year=1960, boys=2022093.0, girls=2132717.0),\n",
       " Row(year=1961, boys=2017316.0, girls=2122502.0),\n",
       " Row(year=1962, boys=1966548.0, girls=2068945.0),\n",
       " Row(year=1963, boys=1927217.0, girls=2031755.0),\n",
       " Row(year=1964, boys=1894594.0, girls=1993270.0),\n",
       " Row(year=1965, boys=1765001.0, girls=1861378.0),\n",
       " Row(year=1966, boys=1691868.0, girls=1783964.0),\n",
       " Row(year=1967, boys=1650764.0, girls=1744527.0),\n",
       " Row(year=1968, boys=1640103.0, girls=1738928.0),\n",
       " Row(year=1969, boys=1686947.0, girls=1789732.0),\n",
       " Row(year=1970, boys=1748147.0, girls=1859594.0),\n",
       " Row(year=1971, boys=1663475.0, girls=1769201.0),\n",
       " Row(year=1972, boys=1521185.0, girls=1622666.0),\n",
       " Row(year=1973, boys=1458139.0, girls=1559338.0),\n",
       " Row(year=1974, boys=1467413.0, girls=1573105.0),\n",
       " Row(year=1975, boys=1457699.0, girls=1562207.0),\n",
       " Row(year=1976, boys=1465096.0, girls=1569904.0),\n",
       " Row(year=1977, boys=1532997.0, girls=1643684.0),\n",
       " Row(year=1978, boys=1531658.0, girls=1642250.0),\n",
       " Row(year=1979, boys=1605051.0, girls=1721947.0),\n",
       " Row(year=1980, boys=1659933.0, girls=1783876.0),\n",
       " Row(year=1981, boys=1667465.0, girls=1790907.0),\n",
       " Row(year=1982, boys=1692678.0, girls=1813970.0),\n",
       " Row(year=1983, boys=1670061.0, girls=1791732.0),\n",
       " Row(year=1984, boys=1682973.0, girls=1803830.0),\n",
       " Row(year=1985, boys=1720036.0, girls=1847032.0),\n",
       " Row(year=1986, boys=1714664.0, girls=1840164.0),\n",
       " Row(year=1987, boys=1737891.0, girls=1865662.0),\n",
       " Row(year=1988, boys=1779839.0, girls=1912602.0),\n",
       " Row(year=1989, boys=1843105.0, girls=1999999.0),\n",
       " Row(year=1990, boys=1897709.0, girls=2052543.0),\n",
       " Row(year=1991, boys=1874434.0, girls=2019463.0),\n",
       " Row(year=1992, boys=1843304.0, girls=1996388.0),\n",
       " Row(year=1993, boys=1808379.0, girls=1960397.0),\n",
       " Row(year=1994, boys=1785074.0, girls=1931157.0),\n",
       " Row(year=1995, boys=1757927.0, girls=1902832.0),\n",
       " Row(year=1996, boys=1752249.0, girls=1893378.0),\n",
       " Row(year=1997, boys=1739806.0, girls=1884122.0),\n",
       " Row(year=1998, boys=1765915.0, girls=1910250.0),\n",
       " Row(year=1999, boys=1772632.0, girls=1918809.0),\n",
       " Row(year=2000, boys=1814601.0, girls=1962406.0),\n",
       " Row(year=2001, boys=1799049.0, girls=1941251.0),\n",
       " Row(year=2002, boys=1795206.0, girls=1939815.0),\n",
       " Row(year=2003, boys=1825359.0, girls=1973434.0),\n",
       " Row(year=2004, boys=1834145.0, girls=1982794.0),\n",
       " Row(year=2005, boys=1845379.0, girls=1994841.0),\n",
       " Row(year=2006, boys=1898463.0, girls=2052377.0),\n",
       " Row(year=2007, boys=1919408.0, girls=2072139.0),\n",
       " Row(year=2008, boys=1887234.0, girls=2036289.0),\n",
       " Row(year=2009, boys=1832925.0, girls=1979303.0),\n",
       " Row(year=2010, boys=1772738.0, girls=1913851.0),\n",
       " Row(year=2011, boys=1753500.0, girls=1893230.0)]"
      ]
     },
     "execution_count": 14,
     "metadata": {},
     "output_type": "execute_result"
    }
   ],
   "source": [
    "df.collect()"
   ]
  },
  {
   "cell_type": "code",
   "execution_count": 15,
   "metadata": {},
   "outputs": [
    {
     "name": "stdout",
     "output_type": "stream",
     "text": [
      "+------------+\n",
      "|  sum(girls)|\n",
      "+------------+\n",
      "|1.64392696E8|\n",
      "+------------+\n",
      "\n"
     ]
    }
   ],
   "source": [
    "df.agg({'girls':'sum'}).show()"
   ]
  },
  {
   "cell_type": "code",
   "execution_count": 16,
   "metadata": {},
   "outputs": [
    {
     "name": "stdout",
     "output_type": "stream",
     "text": [
      "+------------+\n",
      "|  sum(girls)|\n",
      "+------------+\n",
      "|1.64392696E8|\n",
      "+------------+\n",
      "\n"
     ]
    }
   ],
   "source": [
    "df.agg(F.sum('girls')).show()"
   ]
  },
  {
   "cell_type": "code",
   "execution_count": 17,
   "metadata": {},
   "outputs": [
    {
     "data": {
      "text/html": [
       "<div>\n",
       "<style scoped>\n",
       "    .dataframe tbody tr th:only-of-type {\n",
       "        vertical-align: middle;\n",
       "    }\n",
       "\n",
       "    .dataframe tbody tr th {\n",
       "        vertical-align: top;\n",
       "    }\n",
       "\n",
       "    .dataframe thead th {\n",
       "        text-align: right;\n",
       "    }\n",
       "</style>\n",
       "<table border=\"1\" class=\"dataframe\">\n",
       "  <thead>\n",
       "    <tr style=\"text-align: right;\">\n",
       "      <th></th>\n",
       "      <th>sum(girls)</th>\n",
       "    </tr>\n",
       "  </thead>\n",
       "  <tbody>\n",
       "    <tr>\n",
       "      <th>0</th>\n",
       "      <td>164392696.0</td>\n",
       "    </tr>\n",
       "  </tbody>\n",
       "</table>\n",
       "</div>"
      ],
      "text/plain": [
       "    sum(girls)\n",
       "0  164392696.0"
      ]
     },
     "execution_count": 17,
     "metadata": {},
     "output_type": "execute_result"
    }
   ],
   "source": [
    "df.agg({'girls':'sum'}).toPandas()"
   ]
  },
  {
   "cell_type": "code",
   "execution_count": 18,
   "metadata": {},
   "outputs": [
    {
     "data": {
      "text/plain": [
       "[Row(sum(girls)=164392696.0)]"
      ]
     },
     "execution_count": 18,
     "metadata": {},
     "output_type": "execute_result"
    }
   ],
   "source": [
    "df.agg({'girls':'sum'}).collect()"
   ]
  },
  {
   "cell_type": "code",
   "execution_count": 19,
   "metadata": {},
   "outputs": [
    {
     "name": "stdout",
     "output_type": "stream",
     "text": [
      "+------------------+\n",
      "|        avg(girls)|\n",
      "+------------------+\n",
      "|1245399.2121212122|\n",
      "+------------------+\n",
      "\n"
     ]
    }
   ],
   "source": [
    "# 동일 컬럼시 전부 출력이 안됨. \n",
    "df.agg({'girls':'sum', 'girls':'avg'}).show()  "
   ]
  },
  {
   "cell_type": "code",
   "execution_count": 20,
   "metadata": {},
   "outputs": [
    {
     "name": "stdout",
     "output_type": "stream",
     "text": [
      "+------------+------------------+\n",
      "|  sum(girls)|        avg(girls)|\n",
      "+------------+------------------+\n",
      "|1.64392696E8|1245399.2121212122|\n",
      "+------------+------------------+\n",
      "\n"
     ]
    }
   ],
   "source": [
    "df.agg(F.sum('girls'), F.mean('girls')).show()"
   ]
  },
  {
   "cell_type": "code",
   "execution_count": 21,
   "metadata": {},
   "outputs": [
    {
     "name": "stdout",
     "output_type": "stream",
     "text": [
      "+------------------+-----------------+\n",
      "|         avg(boys)|    stddev(girls)|\n",
      "+------------------+-----------------+\n",
      "|1225776.0681818181|740002.8662878576|\n",
      "+------------------+-----------------+\n",
      "\n"
     ]
    }
   ],
   "source": [
    "df.agg({'girls':'stddev', 'boys':'mean'}).show()"
   ]
  },
  {
   "cell_type": "code",
   "execution_count": 22,
   "metadata": {},
   "outputs": [
    {
     "name": "stdout",
     "output_type": "stream",
     "text": [
      "+------------------+------------------+\n",
      "|stddev_samp(girls)|         avg(boys)|\n",
      "+------------------+------------------+\n",
      "| 740002.8662878576|1225776.0681818181|\n",
      "+------------------+------------------+\n",
      "\n"
     ]
    }
   ],
   "source": [
    "df.agg(F.stddev('girls'), F.mean('boys')).show()"
   ]
  },
  {
   "cell_type": "code",
   "execution_count": 23,
   "metadata": {},
   "outputs": [
    {
     "name": "stdout",
     "output_type": "stream",
     "text": [
      "1225776.0681818181\n",
      "740002.8662878576\n"
     ]
    }
   ],
   "source": [
    "r = df.agg({'girls':'stddev', 'boys':'mean'}).collect()[0]\n",
    "print( r['avg(boys)'] )\n",
    "print( r['stddev(girls)'] )"
   ]
  },
  {
   "cell_type": "code",
   "execution_count": 24,
   "metadata": {},
   "outputs": [
    {
     "name": "stdout",
     "output_type": "stream",
     "text": [
      "+------------+------------------+\n",
      "|    여아총합|          여아평균|\n",
      "+------------+------------------+\n",
      "|1.64392696E8|1245399.2121212122|\n",
      "+------------+------------------+\n",
      "\n"
     ]
    }
   ],
   "source": [
    "df.agg(F.sum('girls').alias('여아총합'), F.mean('girls').alias('여아평균')).show()"
   ]
  }
 ],
 "metadata": {
  "kernelspec": {
   "display_name": "Python 3",
   "language": "python",
   "name": "python3"
  },
  "language_info": {
   "codemirror_mode": {
    "name": "ipython",
    "version": 3
   },
   "file_extension": ".py",
   "mimetype": "text/x-python",
   "name": "python",
   "nbconvert_exporter": "python",
   "pygments_lexer": "ipython3",
   "version": "3.7.6"
  }
 },
 "nbformat": 4,
 "nbformat_minor": 4
}
